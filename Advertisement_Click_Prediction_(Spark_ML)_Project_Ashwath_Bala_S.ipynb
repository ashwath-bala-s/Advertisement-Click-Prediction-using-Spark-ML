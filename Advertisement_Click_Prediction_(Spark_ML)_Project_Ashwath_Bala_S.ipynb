{
  "nbformat": 4,
  "nbformat_minor": 0,
  "metadata": {
    "colab": {
      "provenance": []
    },
    "kernelspec": {
      "name": "python3",
      "display_name": "Python 3"
    },
    "language_info": {
      "name": "python"
    }
  },
  "cells": [
    {
      "cell_type": "markdown",
      "source": [
        "##Click Prediction (Spark ML) Project"
      ],
      "metadata": {
        "id": "E6uROrTxhL8B"
      }
    },
    {
      "cell_type": "markdown",
      "source": [
        "##Done By: Ashwath Bala S"
      ],
      "metadata": {
        "id": "Lo6pmbLAhOeN"
      }
    },
    {
      "cell_type": "markdown",
      "source": [
        "Table of Contents\n",
        "\n",
        "1.Problem Statement\n",
        "\n",
        "2.Data Dictionary\n",
        "\n",
        "3.Importing the Required Libraries\n",
        "\n",
        "4.Loading the Datasets\n",
        "\n",
        "5.Univariate Analysis\n",
        "\n",
        "6.Bivariate Analysis\n",
        "\n",
        "7.Missing Value Treatment\n",
        "\n",
        "8.Label Encoding\n",
        "\n",
        "9.One-Hot Encoding\n",
        "\n",
        "10.Model Building\n",
        "\n",
        "11.Model Tuning - Cross Validation, Grid-Search\n",
        "\n",
        "12.Spark ML Pipeline"
      ],
      "metadata": {
        "id": "chdTAuhShRom"
      }
    },
    {
      "cell_type": "markdown",
      "source": [
        "##1. Problem Statement\n",
        "\n",
        "![Click Prediction.jpg](data:image/jpeg;base64,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)\n",
        "\n",
        "An Advertising company delivers more than 3 Billion clicks per month to its advertisers delivering 4.5 Million monthly sales events.\n",
        "\n",
        "It buys space on the Publishers site and then shows an advertisement about the Advertiser at that space. The advertiser pays the network for every conversion from the clicks. The network in turns pays to the publisher after keeping it's commission. The company wants to leverage the machine learning to improve the conversions for its customers.\n",
        "\n",
        "The primary objective of this project is to build a classification model to predict whether a particular advertisement will be clicked or not."
      ],
      "metadata": {
        "id": "J42LzU-XhT14"
      }
    },
    {
      "cell_type": "markdown",
      "source": [
        "##2. Data Dictionary\n",
        "\n",
        "In this project, we have divided the dataset into 3 different parts:\n",
        "   * **`TRAIN`** - It has 1400000 Rows which will be used to train the model.\n",
        "   * **`VALIDATION`** - It has 350000 Rows which will be used to evaluate the model.\n",
        "   * **`TEST`** - It has 350000 Rows on which we will test our final model.\n",
        "\n",
        "   Each of the datasets has the following columns\n",
        "\n",
        " * **`ID`**:   Unique ID of the Click\n",
        " * **`Country`**:   Country Code\n",
        " * **`Carrier`**:   Wireless Network Operator Code\n",
        " * **`TrafficType`**:  Whether the advertisement is for Adults or mainstream.\n",
        " * **`ClickDate`**:  Date at which the advertisement was clicked\n",
        " * **`Device`**:  Type of Device from which advertisement was clicked\n",
        " * **`Browser`**:  Type of Browser from which advertisement was clicked\n",
        " * **`OS`**:  Type of OS from which advertisement was clicked\n",
        " * **`publisherID`**:  Unique ID of publisher\n",
        " * **`advertiserCampaignId`**: Unique ID of campaign of advertisement\n",
        " * **`Fraud`**:  If the click was fraud or not\n",
        " * **`ConversionStatus`**:  If the click was fraud or not  ( **`Target Variable`** )\n",
        "\n",
        "---"
      ],
      "metadata": {
        "id": "Hgk_b9X6haDt"
      }
    },
    {
      "cell_type": "markdown",
      "source": [
        "##3. Importing the Required Libraries"
      ],
      "metadata": {
        "id": "0x6Bp3N-hkN7"
      }
    },
    {
      "cell_type": "code",
      "source": [
        "# Installing PySpark\n",
        "!pip install pyspark"
      ],
      "metadata": {
        "colab": {
          "base_uri": "https://localhost:8080/"
        },
        "id": "tVqz0a2vhif7",
        "outputId": "8f69bd0c-e954-4735-c666-6755b3e1f747"
      },
      "execution_count": null,
      "outputs": [
        {
          "output_type": "stream",
          "name": "stdout",
          "text": [
            "Requirement already satisfied: pyspark in /usr/local/lib/python3.10/dist-packages (3.5.1)\n",
            "Requirement already satisfied: py4j==0.10.9.7 in /usr/local/lib/python3.10/dist-packages (from pyspark) (0.10.9.7)\n"
          ]
        }
      ]
    },
    {
      "cell_type": "code",
      "source": [
        "# Importing the required libraries\n",
        "from pyspark.sql import SparkSession\n",
        "import pyspark.sql.types as tp\n",
        "from pyspark.sql import functions as F\n",
        "\n",
        "# libraries to make plots\n",
        "import matplotlib.pyplot as plt\n",
        "%matplotlib inline"
      ],
      "metadata": {
        "id": "vPFoKR-UhlzQ"
      },
      "execution_count": null,
      "outputs": []
    },
    {
      "cell_type": "markdown",
      "source": [
        "##4. Loading the Datasets"
      ],
      "metadata": {
        "id": "NTeeM39fhzar"
      }
    },
    {
      "cell_type": "code",
      "source": [
        "# Creating a spark session\n",
        "spark = SparkSession.builder.getOrCreate()"
      ],
      "metadata": {
        "id": "r3IY4slah0x1"
      },
      "execution_count": null,
      "outputs": []
    },
    {
      "cell_type": "code",
      "source": [
        "# Reading the Data\n",
        "\n",
        "# reading the train data\n",
        "train_data = spark.read.csv(\"train.csv\",inferSchema=True, header=True)\n",
        "\n",
        "# reading the validation data\n",
        "valid_data = spark.read.csv(\"valid.csv\",inferSchema=True, header=True)\n",
        "\n",
        "# reading the test data\n",
        "test_data  = spark.read.csv(\"test.csv\", inferSchema=True, header=True)"
      ],
      "metadata": {
        "id": "1HgmCrOvh2H_"
      },
      "execution_count": null,
      "outputs": []
    },
    {
      "cell_type": "markdown",
      "source": [
        "##Data Exploration"
      ],
      "metadata": {
        "id": "HwGkU_ULh52X"
      }
    },
    {
      "cell_type": "markdown",
      "source": [
        "Variable Identification"
      ],
      "metadata": {
        "id": "f8wD0Rfah7eU"
      }
    },
    {
      "cell_type": "code",
      "source": [
        "# Variable Identification\n",
        "\n",
        "# data type of the columns\n",
        "train_data.printSchema()"
      ],
      "metadata": {
        "colab": {
          "base_uri": "https://localhost:8080/"
        },
        "id": "hqSK4vHch8yL",
        "outputId": "49f5746d-5411-4a16-db36-fccf6e41677e"
      },
      "execution_count": null,
      "outputs": [
        {
          "output_type": "stream",
          "name": "stdout",
          "text": [
            "root\n",
            " |-- ID: integer (nullable = true)\n",
            " |-- Country: string (nullable = true)\n",
            " |-- Carrier: double (nullable = true)\n",
            " |-- TrafficType: string (nullable = true)\n",
            " |-- ClickDate: timestamp (nullable = true)\n",
            " |-- Device: string (nullable = true)\n",
            " |-- Browser: string (nullable = true)\n",
            " |-- OS: string (nullable = true)\n",
            " |-- ConversionStatus: boolean (nullable = true)\n",
            " |-- publisherId: string (nullable = true)\n",
            " |-- advertiserCampaignId: double (nullable = true)\n",
            " |-- Fraud: double (nullable = true)\n",
            "\n"
          ]
        }
      ]
    },
    {
      "cell_type": "markdown",
      "source": [
        "---\n",
        "\n",
        "**`Numerical`**\n",
        "- ID\n",
        "- Carrier (It is numerical in nature but it is `network code`, so we will treat it as `categorical variable`)\n",
        "- Fraud\n",
        "- advertiserCampaignId (It is numerical in nature but still values are code representing different campaigns, so we will treat it as `categorical variable`)\n",
        "\n",
        "**`Categorical`**\n",
        "- Country\n",
        "- TrafficType\n",
        "- Device\n",
        "- Browser\n",
        "- OS\n",
        "- publisherId\n",
        "\n",
        "\n",
        "**`Time-Based`**\n",
        "- ClickDate\n",
        "\n",
        "**`Boolean`**\n",
        "- ConversionStatus (We will have to type cast it into the integer type to do some aggregation operations on it for the data exploration purposes.)\n",
        "\n",
        "\n",
        "---"
      ],
      "metadata": {
        "id": "bF-f6vUfh-cP"
      }
    },
    {
      "cell_type": "markdown",
      "source": [
        "##5. Univariate Analysis"
      ],
      "metadata": {
        "id": "LjJUAf4EiAfH"
      }
    },
    {
      "cell_type": "markdown",
      "source": [
        "#### `Exploring the Target Variable`\n",
        "\n",
        "---\n",
        "\n",
        "The `Target Variable` for our use-case is `ConversionStatus` and this column has `boolean` data type. Let's find out how much the data is imbalance, i.e. what percentage of data points has the target variable `true` and `false`?\n",
        "\n",
        "---"
      ],
      "metadata": {
        "id": "PsliriaPiCGr"
      }
    },
    {
      "cell_type": "code",
      "source": [
        "# number of data points in each category and their percentage\n",
        "target_variable = train_data.groupBy(\"ConversionStatus\").agg(F.count(\"ConversionStatus\"),\n",
        "                                                            (F.count(\"ConversionStatus\")/train_data.count())*100)\n",
        "target_variable.show()"
      ],
      "metadata": {
        "colab": {
          "base_uri": "https://localhost:8080/"
        },
        "id": "THLw6plYiORT",
        "outputId": "6c110c22-3e71-4567-94b3-8559f26c1ece"
      },
      "execution_count": null,
      "outputs": [
        {
          "output_type": "stream",
          "name": "stdout",
          "text": [
            "+----------------+-----------------------+-------------------------------------------+\n",
            "|ConversionStatus|count(ConversionStatus)|((count(ConversionStatus) / 1400000) * 100)|\n",
            "+----------------+-----------------------+-------------------------------------------+\n",
            "|            true|                    874|                       0.062428571428571424|\n",
            "|           false|                1399126|                          99.93757142857143|\n",
            "+----------------+-----------------------+-------------------------------------------+\n",
            "\n"
          ]
        }
      ]
    },
    {
      "cell_type": "markdown",
      "source": [
        "Let's change these columns names to simpler ones using the `alias` function and also round of the percentage upto 4 decimal places.\n",
        "\n",
        "---"
      ],
      "metadata": {
        "id": "zBqu-xNoiPoB"
      }
    },
    {
      "cell_type": "code",
      "source": [
        "# number of data points in each category and their percentage upto 4 decimal points\n",
        "target_variable = train_data.groupBy(\"ConversionStatus\").agg(F.count(\"ConversionStatus\").alias(\"count\"),\n",
        "                                           F.round((F.count(\"ConversionStatus\")/train_data.count())*100, 4).alias(\"percentage\"))\n",
        "\n",
        "target_variable.show()"
      ],
      "metadata": {
        "colab": {
          "base_uri": "https://localhost:8080/"
        },
        "id": "e0n42xrciRAJ",
        "outputId": "6b1de1b7-d8ed-4515-cf97-0975521af83b"
      },
      "execution_count": null,
      "outputs": [
        {
          "output_type": "stream",
          "name": "stdout",
          "text": [
            "+----------------+-------+----------+\n",
            "|ConversionStatus|  count|percentage|\n",
            "+----------------+-------+----------+\n",
            "|            true|    874|    0.0624|\n",
            "|           false|1399126|   99.9376|\n",
            "+----------------+-------+----------+\n",
            "\n"
          ]
        }
      ]
    },
    {
      "cell_type": "markdown",
      "source": [
        "---\n",
        "\n",
        "The data type of the target variable is `Boolean` in nature and we won't be able to use it in this format for further exploration So, let's first, we will change data type of the target variable `ConversionStatus` from `Boolean` to `Integer`.\n",
        "\n",
        "---"
      ],
      "metadata": {
        "id": "2i4CxSzLiSyn"
      }
    },
    {
      "cell_type": "code",
      "source": [
        "# type cast the target variable\n",
        "train_data = train_data.withColumn(\"ConversionStatus\", F.col(\"ConversionStatus\").cast(tp.IntegerType()))"
      ],
      "metadata": {
        "id": "PZZW4nT3iUcR"
      },
      "execution_count": null,
      "outputs": []
    },
    {
      "cell_type": "code",
      "source": [
        "# type cast the target variable of test and validation data\n",
        "valid_data = valid_data.withColumn(\"ConversionStatus\", F.col(\"ConversionStatus\").cast(tp.IntegerType()))\n",
        "test_data = test_data.withColumn(\"ConversionStatus\", F.col(\"ConversionStatus\").cast(tp.IntegerType()))"
      ],
      "metadata": {
        "id": "gowy4_i9iWDO"
      },
      "execution_count": null,
      "outputs": []
    },
    {
      "cell_type": "markdown",
      "source": [
        "CHECK FOR THE NULL VALUES IN EACH COLUMN"
      ],
      "metadata": {
        "id": "0pUvfKnjiZSq"
      }
    },
    {
      "cell_type": "code",
      "source": [
        "### null values in each column\n",
        "for c in train_data.columns:\n",
        "    # define the condition\n",
        "    missing_values = F.isnull(c)\n",
        "\n",
        "    # filter the data with condition and count the number of data points\n",
        "    missing_values = train_data.filter(missing_values).count()\n",
        "\n",
        "    # print the result\n",
        "    print(c, missing_values)"
      ],
      "metadata": {
        "colab": {
          "base_uri": "https://localhost:8080/"
        },
        "id": "bYbbVXC-iZcv",
        "outputId": "9cc0e205-90a5-431a-d515-12ee5b6d1429"
      },
      "execution_count": null,
      "outputs": [
        {
          "output_type": "stream",
          "name": "stdout",
          "text": [
            "ID 0\n",
            "Country 7514\n",
            "Carrier 0\n",
            "TrafficType 200726\n",
            "ClickDate 0\n",
            "Device 1836\n",
            "Browser 5065\n",
            "OS 4776\n",
            "ConversionStatus 0\n",
            "publisherId 0\n",
            "advertiserCampaignId 5\n",
            "Fraud 0\n"
          ]
        }
      ]
    },
    {
      "cell_type": "markdown",
      "source": [
        "---\n",
        "\n",
        "So, we have null values in most of the columns:\n",
        "\n",
        " * **`ID`**:   0\n",
        " * **`Country`**:   7514\n",
        " * **`Carrier`**:   0\n",
        " * **`TrafficType`**:  200726\n",
        " * **`ClickDate`**:  0\n",
        " * **`Device`**:  1836\n",
        " * **`Browser`**:  5065\n",
        " * **`OS`**:  4776\n",
        " * **`publisherID`**:  0\n",
        " * **`advertiserCampaignId`**: 5\n",
        " * **`Fraud`**:  0\n",
        " * **`ConversionStatus`**:  0\n",
        "\n",
        "\n",
        "---"
      ],
      "metadata": {
        "id": "mBRdNg3fieGp"
      }
    },
    {
      "cell_type": "markdown",
      "source": [
        "---\n",
        "\n",
        "#### `Distinct Values in Each Column`\n",
        "\n",
        "---\n",
        "\n",
        "Next, we will find out the number of distinct values in each of the column.\n",
        "\n",
        "---"
      ],
      "metadata": {
        "id": "tuCBEu1LigWf"
      }
    },
    {
      "cell_type": "code",
      "source": [
        "# distinct values in each column\n",
        "train_data.agg(*(F.countDistinct(F.col(c)).alias(c) for c in train_data.columns))"
      ],
      "metadata": {
        "colab": {
          "base_uri": "https://localhost:8080/"
        },
        "id": "_1dEKJSIiiK8",
        "outputId": "d0f1aba3-34a0-4a70-fad3-5280945ca005"
      },
      "execution_count": null,
      "outputs": [
        {
          "output_type": "execute_result",
          "data": {
            "text/plain": [
              "DataFrame[ID: bigint, Country: bigint, Carrier: bigint, TrafficType: bigint, ClickDate: bigint, Device: bigint, Browser: bigint, OS: bigint, ConversionStatus: bigint, publisherId: bigint, advertiserCampaignId: bigint, Fraud: bigint]"
            ]
          },
          "metadata": {},
          "execution_count": 12
        }
      ]
    },
    {
      "cell_type": "markdown",
      "source": [
        "---\n",
        "\n",
        " - There are 1400000 unique values in the `ID` column i.e unique for each row. So it won't add any value to our ML model, therefore we will not include it, when we will train our model.\n",
        " - There are 196 different countries. 764 different devices in the data.\n",
        " - There are so many unique values in `ClickDate` column, it is because the data is collected every few seconds.\n",
        " - There are 500 different campaigns and over 2000 different publishers.\n",
        "\n",
        "\n",
        "---"
      ],
      "metadata": {
        "id": "zBDrL57uijsJ"
      }
    },
    {
      "cell_type": "markdown",
      "source": [
        "---\n",
        "\n",
        "\n",
        "\n",
        "#### `Column - Country`\n",
        "\n",
        "Next, we will explore the Country column. We have already seen that the dataset has 196 unique countries. Let's check the number of datapoints with each country code using the groupBy function.\n",
        "\n",
        "---"
      ],
      "metadata": {
        "id": "sFiCHucgjE9p"
      }
    },
    {
      "cell_type": "code",
      "source": [
        "# number of datapoints with each country\n",
        "top_countries = train_data.groupBy(\"Country\").agg(F.count(\"Country\").alias(\"country_count\"))\n",
        "top_countries.show(10)"
      ],
      "metadata": {
        "colab": {
          "base_uri": "https://localhost:8080/"
        },
        "id": "Jm1SmIrUjGXu",
        "outputId": "5c525402-f5f4-4f54-dd4a-c398a4e56d3b"
      },
      "execution_count": null,
      "outputs": [
        {
          "output_type": "stream",
          "name": "stdout",
          "text": [
            "+-------+-------------+\n",
            "|Country|country_count|\n",
            "+-------+-------------+\n",
            "|     DZ|        13232|\n",
            "|     MM|         4666|\n",
            "|     LT|           41|\n",
            "|     CI|          277|\n",
            "|     TC|            1|\n",
            "|     AZ|          230|\n",
            "|     FI|           21|\n",
            "|     UA|          219|\n",
            "|     RO|          200|\n",
            "|     ZM|          494|\n",
            "+-------+-------------+\n",
            "only showing top 10 rows\n",
            "\n"
          ]
        }
      ]
    },
    {
      "cell_type": "markdown",
      "source": [
        "---\n",
        "\n",
        "View the Top 25 countries in the data using the orderBy.\n",
        "\n",
        "---"
      ],
      "metadata": {
        "id": "qF4TGP_ojH9n"
      }
    },
    {
      "cell_type": "code",
      "source": [
        "# Top 25 countries in the dataset\n",
        "top_countries.orderBy(\"country_count\",ascending=False).show(25)"
      ],
      "metadata": {
        "colab": {
          "base_uri": "https://localhost:8080/"
        },
        "id": "Ri6oWzJJjJl6",
        "outputId": "56531ad0-e613-4bd0-c274-377068af92f7"
      },
      "execution_count": null,
      "outputs": [
        {
          "output_type": "stream",
          "name": "stdout",
          "text": [
            "+-------+-------------+\n",
            "|Country|country_count|\n",
            "+-------+-------------+\n",
            "|     IN|       391465|\n",
            "|     TH|       230027|\n",
            "|     ID|       119701|\n",
            "|     BD|       106342|\n",
            "|     MX|        58908|\n",
            "|     BR|        57664|\n",
            "|     RU|        41288|\n",
            "|     NG|        36244|\n",
            "|     MY|        29340|\n",
            "|     US|        26339|\n",
            "|     BO|        21602|\n",
            "|     PH|        19815|\n",
            "|     ZA|        15835|\n",
            "|     VE|        15405|\n",
            "|     GT|        13781|\n",
            "|     DZ|        13232|\n",
            "|     KR|        12906|\n",
            "|     CO|        12877|\n",
            "|     IQ|        12581|\n",
            "|     AE|        10512|\n",
            "|     ES|         8785|\n",
            "|     IR|         8588|\n",
            "|     UK|         7824|\n",
            "|     IT|         7289|\n",
            "|     PE|         6531|\n",
            "+-------+-------------+\n",
            "only showing top 25 rows\n",
            "\n"
          ]
        }
      ]
    },
    {
      "cell_type": "markdown",
      "source": [
        "---\n",
        "\n",
        "Now, we have 196 different countries in the dataset but most of the data points belong to the 20 countries. They have atleast 10,000 rows. So, in the dataset, we will keep only top 25 countries and map rest of them as `Others`.\n",
        "\n",
        "---\n",
        "\n",
        "To do the mapping, let's define a function.\n",
        "\n",
        "---"
      ],
      "metadata": {
        "id": "5cnbobcEjL5l"
      }
    },
    {
      "cell_type": "code",
      "source": [
        "# create list of top 20 countries, we can change the parameter in the limit function to choose any other number of countries\n",
        "top_20_countries = (top_countries.orderBy(\"country_count\",ascending=False).limit(20).select(\"Country\").collect())\n",
        "top_20_countries = [ row.Country for row in top_20_countries]\n",
        "print(top_20_countries)\n",
        "\n",
        "# define function to map countries\n",
        "def map_countries(x):\n",
        "    if x not in top_20_countries:\n",
        "        return \"Others\"\n",
        "    else:\n",
        "        return x"
      ],
      "metadata": {
        "colab": {
          "base_uri": "https://localhost:8080/"
        },
        "id": "YIur2kEnjNbr",
        "outputId": "e1453e1f-f880-41aa-992f-e4e4fea6f376"
      },
      "execution_count": null,
      "outputs": [
        {
          "output_type": "stream",
          "name": "stdout",
          "text": [
            "['IN', 'TH', 'ID', 'BD', 'MX', 'BR', 'RU', 'NG', 'MY', 'US', 'BO', 'PH', 'ZA', 'VE', 'GT', 'DZ', 'KR', 'CO', 'IQ', 'AE']\n"
          ]
        }
      ]
    },
    {
      "cell_type": "markdown",
      "source": [
        "----\n",
        "\n",
        "Convert the function to the `UDF` function with return type as `String`.\n",
        "\n",
        "----"
      ],
      "metadata": {
        "id": "usFMuVuWjQaR"
      }
    },
    {
      "cell_type": "code",
      "source": [
        "# convert to udf function\n",
        "map_countries_udf = F.udf(f= map_countries, returnType= tp.StringType())"
      ],
      "metadata": {
        "id": "wSzirMDnjSEk"
      },
      "execution_count": null,
      "outputs": []
    },
    {
      "cell_type": "markdown",
      "source": [
        "---\n",
        "\n",
        "Use the function `withColumn` & `map_countries_udf` to map the countries in the original data.\n",
        "\n",
        "---"
      ],
      "metadata": {
        "id": "JP9816_0jT7u"
      }
    },
    {
      "cell_type": "code",
      "source": [
        "# map the countries\n",
        "train_data = train_data.withColumn(\"country_modified\", map_countries_udf(train_data[\"Country\"]))"
      ],
      "metadata": {
        "id": "QXNYsYXMjViQ"
      },
      "execution_count": null,
      "outputs": []
    },
    {
      "cell_type": "markdown",
      "source": [
        "----\n",
        "\n",
        "Now, we have reduced the number of distinct countries from `196` to `21`. Let's check the number of data points with each of the country we have now.\n",
        "\n",
        "----"
      ],
      "metadata": {
        "id": "3z1hK4DsjW-8"
      }
    },
    {
      "cell_type": "code",
      "source": [
        "# number of data points with each country category\n",
        "top_20_countries = train_data.groupBy(\"country_modified\").agg(F.count(\"country_modified\"))\n",
        "top_20_countries.show()"
      ],
      "metadata": {
        "colab": {
          "base_uri": "https://localhost:8080/"
        },
        "id": "G-DZw6owjYLF",
        "outputId": "c2332c4d-c76a-4cf0-e121-b21c208d0111"
      },
      "execution_count": null,
      "outputs": [
        {
          "output_type": "stream",
          "name": "stdout",
          "text": [
            "+----------------+-----------------------+\n",
            "|country_modified|count(country_modified)|\n",
            "+----------------+-----------------------+\n",
            "|              DZ|                  13232|\n",
            "|              MX|                  58908|\n",
            "|              RU|                  41288|\n",
            "|              IQ|                  12581|\n",
            "|              BD|                 106342|\n",
            "|              ID|                 119701|\n",
            "|              BR|                  57664|\n",
            "|              GT|                  13781|\n",
            "|              VE|                  15405|\n",
            "|              ZA|                  15835|\n",
            "|              KR|                  12906|\n",
            "|              US|                  26339|\n",
            "|              MY|                  29340|\n",
            "|              IN|                 391465|\n",
            "|              AE|                  10512|\n",
            "|              PH|                  19815|\n",
            "|          Others|                 154136|\n",
            "|              TH|                 230027|\n",
            "|              BO|                  21602|\n",
            "|              CO|                  12877|\n",
            "+----------------+-----------------------+\n",
            "only showing top 20 rows\n",
            "\n"
          ]
        }
      ]
    },
    {
      "cell_type": "code",
      "source": [
        "# bar plot of top countries\n",
        "top_20_countries_df = top_20_countries.toPandas()\n",
        "plt.figure(figsize=(15,5))\n",
        "plt.xticks(rotation=45)\n",
        "plt.title(\"Country-Wise Ads Distribution\")\n",
        "plt.bar(top_20_countries_df[\"country_modified\"], top_20_countries_df[\"count(country_modified)\"]);"
      ],
      "metadata": {
        "colab": {
          "base_uri": "https://localhost:8080/",
          "height": 401
        },
        "id": "e4U8bgXIjZ0k",
        "outputId": "6af71cc0-bec5-4145-ee9f-9bf6b45428ca"
      },
      "execution_count": null,
      "outputs": [
        {
          "output_type": "display_data",
          "data": {
            "text/plain": [
              "<Figure size 1500x500 with 1 Axes>"
            ],
            "image/png": "[encoded data removed]"
          },
          "metadata": {}
        }
      ]
    },
    {
      "cell_type": "markdown",
      "source": [
        "----\n",
        "\n",
        "\n",
        "#### `Make the transformation on the test data`\n",
        "\n",
        "----"
      ],
      "metadata": {
        "id": "lHj6pMzmjeEZ"
      }
    },
    {
      "cell_type": "code",
      "source": [
        "# validation data\n",
        "valid_data = valid_data.withColumn(\"country_modified\", map_countries_udf(valid_data[\"Country\"]))\n",
        "# test data\n",
        "test_data = test_data.withColumn(\"country_modified\", map_countries_udf(test_data[\"Country\"]))"
      ],
      "metadata": {
        "id": "vmXM79SMjfg0"
      },
      "execution_count": null,
      "outputs": []
    },
    {
      "cell_type": "markdown",
      "source": [
        "---\n",
        "\n",
        "#### `Column - Traffic Type`\n",
        "\n",
        "Now, let's explore the column `TrafficType` and we have already identified that it has 2 different categories. Let's find out the number of data points in each of the category.\n",
        "\n",
        "---"
      ],
      "metadata": {
        "id": "lVOOHnddjhpu"
      }
    },
    {
      "cell_type": "code",
      "source": [
        "# number of data points in each category and their percentage upto 4 decimal points\n",
        "traffic_type = train_data.groupBy(\"TrafficType\").agg(F.count(\"TrafficType\").alias(\"count\"),\n",
        "                                                     F.round((F.count(\"TrafficType\")/train_data.count())*100, 4).alias(\"percentage\"))\n",
        "traffic_type.show()"
      ],
      "metadata": {
        "colab": {
          "base_uri": "https://localhost:8080/"
        },
        "id": "JXmupQ8njjEt",
        "outputId": "f9c73186-d465-4a64-c864-d072b1d58052"
      },
      "execution_count": null,
      "outputs": [
        {
          "output_type": "stream",
          "name": "stdout",
          "text": [
            "+-----------+------+----------+\n",
            "|TrafficType| count|percentage|\n",
            "+-----------+------+----------+\n",
            "|       NULL|     0|       0.0|\n",
            "|          M|370845|   26.4889|\n",
            "|          A|828429|   59.1735|\n",
            "+-----------+------+----------+\n",
            "\n"
          ]
        }
      ]
    },
    {
      "cell_type": "markdown",
      "source": [
        "---\n",
        "\n",
        "We also saw that the column `TrafficType` has 200726 missing values, almost 16 percent So, We will fill all those values with the `\"U\"` a third category which means unidentified. We will do this in the pre-processing stage where we will fill null values of all the required columns.\n",
        "\n",
        "---"
      ],
      "metadata": {
        "id": "NHhUTMtljlH8"
      }
    },
    {
      "cell_type": "markdown",
      "source": [
        "---\n",
        "\n",
        "#### `Column - Fraud`\n",
        "\n",
        "Now, let's explore the column `Fraud` and we have already identified that it has 2 different categories. Let's find out the number of data points in each of the category.\n",
        "\n",
        "---"
      ],
      "metadata": {
        "id": "euq7MYgijm3I"
      }
    },
    {
      "cell_type": "code",
      "source": [
        "# number of data points in each category and their percentage upto 6 decimal points\n",
        "fraud_type = train_data.groupBy(\"Fraud\").agg(F.count(\"Fraud\").alias(\"count\"),\n",
        "                                             F.round((F.count(\"Fraud\")/train_data.count())*100, 6).alias(\"percentage\"))\n",
        "fraud_type.show()"
      ],
      "metadata": {
        "colab": {
          "base_uri": "https://localhost:8080/"
        },
        "id": "BZqRT0RwjoDw",
        "outputId": "8151cb60-b203-4ae1-8f41-2485ce629baf"
      },
      "execution_count": null,
      "outputs": [
        {
          "output_type": "stream",
          "name": "stdout",
          "text": [
            "+-----+-------+----------+\n",
            "|Fraud|  count|percentage|\n",
            "+-----+-------+----------+\n",
            "|  0.0|1399992| 99.999429|\n",
            "|  1.0|      8|   5.71E-4|\n",
            "+-----+-------+----------+\n",
            "\n"
          ]
        }
      ]
    },
    {
      "cell_type": "markdown",
      "source": [
        "---\n",
        "---\n",
        "\n",
        "#### `Column - Device`\n",
        "\n",
        "\n",
        "Next, we will explore the Device column. We have already seen that, we have 764 devices in the dataset and this feature also has very high cardinality. So, we will have to reduce the number of the categories. Let's have a look at some of the top device categories in the dataset.\n",
        "\n",
        "---"
      ],
      "metadata": {
        "id": "9BxZYPsDjqBo"
      }
    },
    {
      "cell_type": "code",
      "source": [
        "top_devices = train_data.groupBy(\"Device\").agg(F.count(\"Device\"))\n",
        "top_devices.orderBy(\"count(Device)\",ascending=False).show(20)"
      ],
      "metadata": {
        "colab": {
          "base_uri": "https://localhost:8080/"
        },
        "id": "0n3yNumFjruO",
        "outputId": "f5aa4ffa-b257-4377-d02c-393e6891b775"
      },
      "execution_count": null,
      "outputs": [
        {
          "output_type": "stream",
          "name": "stdout",
          "text": [
            "+--------+-------------+\n",
            "|  Device|count(Device)|\n",
            "+--------+-------------+\n",
            "| Generic|       695723|\n",
            "| Samsung|       197666|\n",
            "|  Lenovo|        58867|\n",
            "|     ZTE|        41291|\n",
            "|Micromax|        40801|\n",
            "| Alcatel|        40469|\n",
            "|    Lava|        19338|\n",
            "|Symphony|        19286|\n",
            "|   Intex|        18600|\n",
            "|      LG|        18216|\n",
            "|    Sony|        14370|\n",
            "|  Huawei|        13618|\n",
            "|   Apple|        11467|\n",
            "|     HTC|        10900|\n",
            "|Motorola|        10492|\n",
            "|    Asus|         9090|\n",
            "|    true|         8232|\n",
            "| Oukitel|         7395|\n",
            "|   Tecno|         7300|\n",
            "|  Gionee|         6887|\n",
            "+--------+-------------+\n",
            "only showing top 20 rows\n",
            "\n"
          ]
        }
      ]
    },
    {
      "cell_type": "markdown",
      "source": [
        "----\n",
        "\n",
        "Now, we can see the most of the devices are `Generic` and others are some brand names. We got `Generic` whenever we are unable to find out the brand of the device. So, we will create only 2 categories for this feature `Generic` and `Not Generic` and map them as 0 and 1.\n",
        "\n",
        "Let's define a function to do the mapping.\n",
        "\n",
        "----"
      ],
      "metadata": {
        "id": "yZ85aPGLjtlK"
      }
    },
    {
      "cell_type": "code",
      "source": [
        "# define the function to map the devices.\n",
        "def map_device(x):\n",
        "    if x not in [\"Generic\"]:\n",
        "        return 0\n",
        "    else:\n",
        "        return 1"
      ],
      "metadata": {
        "id": "hZEAhFvhjvJI"
      },
      "execution_count": null,
      "outputs": []
    },
    {
      "cell_type": "markdown",
      "source": [
        "----\n",
        "\n",
        "Convert to UDF function.\n",
        "\n",
        "---"
      ],
      "metadata": {
        "id": "ml2wBKVBjxFh"
      }
    },
    {
      "cell_type": "code",
      "source": [
        "# convert tot udf function\n",
        "map_device_udf = F.udf(f = map_device, returnType= tp.IntegerType())"
      ],
      "metadata": {
        "id": "XRcCuLKxjye8"
      },
      "execution_count": null,
      "outputs": []
    },
    {
      "cell_type": "markdown",
      "source": [
        "---\n",
        "\n",
        "Use the function `withColumn` & `map_device_udf` to map the device in the original data.\n",
        "\n",
        "\n",
        "---"
      ],
      "metadata": {
        "id": "-YU0SfM5j0Xi"
      }
    },
    {
      "cell_type": "code",
      "source": [
        "# map device\n",
        "train_data = train_data.withColumn(\"device_modified\", map_device_udf(train_data[\"Device\"]))"
      ],
      "metadata": {
        "id": "yXDAjUp7j12d"
      },
      "execution_count": null,
      "outputs": []
    },
    {
      "cell_type": "markdown",
      "source": [
        "----\n",
        "\n",
        "Check the number of devices in each category `Generic` and `Not Generic`.\n",
        "\n",
        "---"
      ],
      "metadata": {
        "id": "hgcW6Edcj3Pi"
      }
    },
    {
      "cell_type": "code",
      "source": [
        "train_data.groupBy(\"device_modified\").agg(F.count(\"device_modified\")).show()"
      ],
      "metadata": {
        "colab": {
          "base_uri": "https://localhost:8080/"
        },
        "id": "1PYvP35lj4zC",
        "outputId": "143e5047-09c5-4c2a-b284-5ed8aa03a1f2"
      },
      "execution_count": null,
      "outputs": [
        {
          "output_type": "stream",
          "name": "stdout",
          "text": [
            "+---------------+----------------------+\n",
            "|device_modified|count(device_modified)|\n",
            "+---------------+----------------------+\n",
            "|              1|                695723|\n",
            "|              0|                704277|\n",
            "+---------------+----------------------+\n",
            "\n"
          ]
        }
      ]
    },
    {
      "cell_type": "markdown",
      "source": [
        "Make the transformation on test data"
      ],
      "metadata": {
        "id": "qum32ei0j-2W"
      }
    },
    {
      "cell_type": "code",
      "source": [
        "# map the device\n",
        "\n",
        "# validation data\n",
        "valid_data = valid_data.withColumn(\"device_modified\", map_device_udf(valid_data[\"Device\"]))\n",
        "# test data\n",
        "test_data = test_data.withColumn(\"device_modified\", map_device_udf(test_data[\"Device\"]))"
      ],
      "metadata": {
        "id": "uWlAOg-UkAIS"
      },
      "execution_count": null,
      "outputs": []
    },
    {
      "cell_type": "markdown",
      "source": [
        "---\n",
        "\n",
        "#### `Column - Browser`\n",
        "\n",
        "Now, let's explore the browser column We know that we have 30 different browsers in the dataset. Let's look at the numbers how many data points we have for each category of the Browser.\n",
        "\n",
        "\n",
        "---"
      ],
      "metadata": {
        "id": "tRO0Q2m0kHi1"
      }
    },
    {
      "cell_type": "code",
      "source": [
        "# each browser count in the dataset\n",
        "top_browser = train_data.groupBy(\"Browser\").agg(F.count(\"Browser\"))\n",
        "top_browser.orderBy(\"count(Browser)\",ascending=False).show(30)"
      ],
      "metadata": {
        "colab": {
          "base_uri": "https://localhost:8080/"
        },
        "id": "ua4EYSQMkIxQ",
        "outputId": "aa89ae44-b0b0-4dc1-f195-22cad597ab2d"
      },
      "execution_count": null,
      "outputs": [
        {
          "output_type": "stream",
          "name": "stdout",
          "text": [
            "+--------------------+--------------+\n",
            "|             Browser|count(Browser)|\n",
            "+--------------------+--------------+\n",
            "|      android_webkit|        661313|\n",
            "|              chrome|        584749|\n",
            "|        46.0.2490.76|         91529|\n",
            "|                  uc|         26155|\n",
            "|            chromium|         11424|\n",
            "|              iphone|         11070|\n",
            "|               opera|          4405|\n",
            "|              safari|           942|\n",
            "|     firefox_desktop|           911|\n",
            "|                msie|           690|\n",
            "|            iemobile|           409|\n",
            "|      firefox_mobile|           390|\n",
            "|       tizen_browser|           227|\n",
            "|             samsung|           223|\n",
            "|          blackberry|           180|\n",
            "|                 ovi|           130|\n",
            "|              dorado|            79|\n",
            "|              fennec|            37|\n",
            "|         wap_browser|            23|\n",
            "|            netfront|            12|\n",
            "|        novarra_nweb|            11|\n",
            "|             phantom|             6|\n",
            "|             firefox|             6|\n",
            "|dolfin/jasmine_we...|             5|\n",
            "|    maui_wap_browser|             2|\n",
            "|        teleca-obigo|             2|\n",
            "|         mqq_browser|             2|\n",
            "|        opera_tablet|             1|\n",
            "|openwave_mobile_b...|             1|\n",
            "|         edge_mobile|             1|\n",
            "+--------------------+--------------+\n",
            "only showing top 30 rows\n",
            "\n"
          ]
        }
      ]
    },
    {
      "cell_type": "markdown",
      "source": [
        "---\n",
        "\n",
        "Now, we want to reduce the number of categories so we will club some of the categories as following:\n",
        "\n",
        "> * **chrome** : `android_webkit`, `chrome`, `46.0.2490.76` (chrome version), `chromium`\n",
        "> * **safari** : `iphone`, `safari`\n",
        "> * **firefox** : `firefox_mobile`, `firefox`, `firefox_desktop`\n",
        "> * **others** : Rest of the Browsers\n",
        "\n",
        "\n",
        "\n",
        "Let's define the function to map the browsers\n",
        "\n",
        "---"
      ],
      "metadata": {
        "id": "9aOc6OIMkKk2"
      }
    },
    {
      "cell_type": "code",
      "source": [
        "# function to map the broswer\n",
        "def map_browser(x):\n",
        "    if x in [\"android_webkit\", \"chrome\", \"46.0.2490.76\", \"chromium\"]:\n",
        "        return \"chrome\"\n",
        "\n",
        "    elif x in [\"iphone\", \"safari\"]:\n",
        "        return \"safari\"\n",
        "\n",
        "    elif x in [\"firefox_mobile\", \"firefox\", \"firefox_desktop\"]:\n",
        "        return \"firefox\"\n",
        "    else:\n",
        "        return \"others\""
      ],
      "metadata": {
        "id": "19c-GaDrkL6X"
      },
      "execution_count": null,
      "outputs": []
    },
    {
      "cell_type": "markdown",
      "source": [
        "---\n",
        "\n",
        "Convert to udf function\n",
        "\n",
        "---"
      ],
      "metadata": {
        "id": "2UFahjKWkNQf"
      }
    },
    {
      "cell_type": "code",
      "source": [
        "# convert to udf function\n",
        "map_browser_udf = F.udf(f = map_browser, returnType= tp.StringType())"
      ],
      "metadata": {
        "id": "qY2RsSJXkOsX"
      },
      "execution_count": null,
      "outputs": []
    },
    {
      "cell_type": "markdown",
      "source": [
        "---\n",
        "\n",
        "Use the function `withColumn` & `map_browser_udf` to map the browser in the original data.\n",
        "\n",
        "---"
      ],
      "metadata": {
        "id": "dPBkAoHgkSHO"
      }
    },
    {
      "cell_type": "code",
      "source": [
        "# update the column\n",
        "train_data = train_data.withColumn(\"browser_modified\", map_browser_udf(train_data[\"Browser\"]))"
      ],
      "metadata": {
        "id": "pG3V6r00kTg7"
      },
      "execution_count": null,
      "outputs": []
    },
    {
      "cell_type": "markdown",
      "source": [
        "---\n",
        "\n",
        "Let's have a look at the number of data points with each category.\n",
        "\n",
        "---"
      ],
      "metadata": {
        "id": "rwyOusVKkU3V"
      }
    },
    {
      "cell_type": "code",
      "source": [
        "# data distribution of browser column\n",
        "browser_distribution = train_data.groupBy(\"browser_modified\").agg(F.count(\"browser_modified\").alias(\"count\")).show()\n",
        "browser_distribution"
      ],
      "metadata": {
        "colab": {
          "base_uri": "https://localhost:8080/"
        },
        "id": "pFPUxOLbkWHA",
        "outputId": "b33def71-1c55-447a-b595-4031260ac329"
      },
      "execution_count": null,
      "outputs": [
        {
          "output_type": "stream",
          "name": "stdout",
          "text": [
            "+----------------+-------+\n",
            "|browser_modified|  count|\n",
            "+----------------+-------+\n",
            "|         firefox|   1307|\n",
            "|          chrome|1349015|\n",
            "|          others|  37666|\n",
            "|          safari|  12012|\n",
            "+----------------+-------+\n",
            "\n"
          ]
        }
      ]
    },
    {
      "cell_type": "markdown",
      "source": [
        "---\n",
        "\n",
        "#### `Make the transformation on the test data.`\n",
        "\n",
        "\n",
        "----"
      ],
      "metadata": {
        "id": "lWqT8EyOkX_b"
      }
    },
    {
      "cell_type": "code",
      "source": [
        "# reduce browser categories in the test and validation data\n",
        "# validation data\n",
        "valid_data = valid_data.withColumn(\"browser_modified\", map_browser_udf(valid_data[\"Browser\"]))\n",
        "# test data\n",
        "test_data = test_data.withColumn(\"browser_modified\", map_browser_udf(test_data[\"Browser\"]))"
      ],
      "metadata": {
        "id": "rEH96EP4kZIZ"
      },
      "execution_count": null,
      "outputs": []
    },
    {
      "cell_type": "markdown",
      "source": [
        "Column - OS"
      ],
      "metadata": {
        "id": "cvr0cc7dkeNE"
      }
    },
    {
      "cell_type": "markdown",
      "source": [
        "Now, let's explore the OS column. We have 15 different OS in the dataset. Let's have a look at the number of data points and clicks for each category in the OS."
      ],
      "metadata": {
        "id": "X9EBQgoWkhQT"
      }
    },
    {
      "cell_type": "code",
      "source": [
        "# groupby to find number of data points in each category of the OS\n",
        "top_os = train_data.groupBy(\"OS\").agg(F.count(\"OS\"))\n",
        "top_os.orderBy(\"count(OS)\",ascending=False).show(23)"
      ],
      "metadata": {
        "colab": {
          "base_uri": "https://localhost:8080/"
        },
        "id": "Y5kYGRMlkf9b",
        "outputId": "22d70890-09c7-48dd-cda3-ccf7d92b5e19"
      },
      "execution_count": null,
      "outputs": [
        {
          "output_type": "stream",
          "name": "stdout",
          "text": [
            "+----------------+---------+\n",
            "|              OS|count(OS)|\n",
            "+----------------+---------+\n",
            "|         Android|  1377749|\n",
            "|             iOS|    11398|\n",
            "|         Desktop|     4589|\n",
            "|Windows Phone OS|      931|\n",
            "|           Tizen|      227|\n",
            "|          RIM OS|      211|\n",
            "|        Mac OS X|       61|\n",
            "|         Xbox OS|       28|\n",
            "|      Symbian OS|       14|\n",
            "|      Firefox OS|        6|\n",
            "|  PlayStation OS|        3|\n",
            "|  MTK/Nucleus OS|        2|\n",
            "|           MeeGo|        2|\n",
            "|   RIM Tablet OS|        2|\n",
            "|      Windows RT|        1|\n",
            "|            NULL|        0|\n",
            "+----------------+---------+\n",
            "\n"
          ]
        }
      ]
    },
    {
      "cell_type": "markdown",
      "source": [
        "----\n",
        "\n",
        "\n",
        "- We can observe here, that a majority of devices are from `Android`, so we can reduce the categories to either 2, `Android` or `Not Android`.\n",
        "- But, let's keep some more. We will club `iOS` and `Mac OS X`. `Android` as a separate category and rest of the categories as `Others`.\n",
        "\n",
        "\n",
        "Let's define a function to map the OS.\n",
        "\n",
        "----"
      ],
      "metadata": {
        "id": "ESGn3tjGkkLP"
      }
    },
    {
      "cell_type": "code",
      "source": [
        "# define a function to map the OS.\n",
        "def map_os(x):\n",
        "    if x in [\"Android\"]:\n",
        "        return \"Android\"\n",
        "\n",
        "    elif x in [\"iOS\", \"Mac OS X\"]:\n",
        "        return \"ios\"\n",
        "    else:\n",
        "        return \"others\""
      ],
      "metadata": {
        "id": "OsxzNx7dklbJ"
      },
      "execution_count": null,
      "outputs": []
    },
    {
      "cell_type": "markdown",
      "source": [
        "---\n",
        "\n",
        "Convert to UDF Function.\n",
        "\n",
        "---"
      ],
      "metadata": {
        "id": "0GDZ4dzYknGC"
      }
    },
    {
      "cell_type": "code",
      "source": [
        "# convert the map_os\n",
        "map_os_udf = F.udf(f= map_os, returnType= tp.StringType())"
      ],
      "metadata": {
        "id": "1Q0JiQOmkoUL"
      },
      "execution_count": null,
      "outputs": []
    },
    {
      "cell_type": "code",
      "source": [
        "# modify the data using the withColumn and map_os_udf function\n",
        "train_data = train_data.withColumn(\"modified_os\", map_os_udf(train_data[\"OS\"]))"
      ],
      "metadata": {
        "id": "opELCPLVkpZ7"
      },
      "execution_count": null,
      "outputs": []
    },
    {
      "cell_type": "markdown",
      "source": [
        "---\n",
        "\n",
        "Now, let's check the data points in updated categories of the OS column.\n",
        "\n",
        "----"
      ],
      "metadata": {
        "id": "F-2fQctJkqu3"
      }
    },
    {
      "cell_type": "code",
      "source": [
        "train_data.groupBy(\"modified_os\").agg(F.count(\"modified_os\")).show()"
      ],
      "metadata": {
        "colab": {
          "base_uri": "https://localhost:8080/"
        },
        "id": "6oBbBAbekr-F",
        "outputId": "99acf051-92fd-4209-e0ed-115a63545817"
      },
      "execution_count": null,
      "outputs": [
        {
          "output_type": "stream",
          "name": "stdout",
          "text": [
            "+-----------+------------------+\n",
            "|modified_os|count(modified_os)|\n",
            "+-----------+------------------+\n",
            "|     others|             10792|\n",
            "|    Android|           1377749|\n",
            "|        ios|             11459|\n",
            "+-----------+------------------+\n",
            "\n"
          ]
        }
      ]
    },
    {
      "cell_type": "markdown",
      "source": [
        "Make the transformation on the test data"
      ],
      "metadata": {
        "id": "AVKqfn8hkudX"
      }
    },
    {
      "cell_type": "code",
      "source": [
        "# validation dta\n",
        "valid_data = valid_data.withColumn(\"modified_os\", map_os_udf(valid_data[\"OS\"]))\n",
        "# test data\n",
        "test_data = test_data.withColumn(\"modified_os\", map_os_udf(test_data[\"OS\"]))"
      ],
      "metadata": {
        "id": "JfEPkWqGkvf5"
      },
      "execution_count": null,
      "outputs": []
    },
    {
      "cell_type": "markdown",
      "source": [
        "Column - Publisher ID"
      ],
      "metadata": {
        "id": "DgAFoiHkkxle"
      }
    },
    {
      "cell_type": "markdown",
      "source": [
        "Next, we will explore the publisherId. Let's find out first how many different publisher we have in the dataset."
      ],
      "metadata": {
        "id": "w8HwRvUvkzOf"
      }
    },
    {
      "cell_type": "code",
      "source": [
        "# distinct values in the publisherId\n",
        "train_data.agg(F.countDistinct(\"publisherId\")).show()"
      ],
      "metadata": {
        "colab": {
          "base_uri": "https://localhost:8080/"
        },
        "id": "FTy8hLZFk0y_",
        "outputId": "d9380988-c1db-4392-cc13-5e22ad38d5c6"
      },
      "execution_count": null,
      "outputs": [
        {
          "output_type": "stream",
          "name": "stdout",
          "text": [
            "+---------------------------+\n",
            "|count(DISTINCT publisherId)|\n",
            "+---------------------------+\n",
            "|                       2052|\n",
            "+---------------------------+\n",
            "\n"
          ]
        }
      ]
    },
    {
      "cell_type": "markdown",
      "source": [
        "---\n",
        "\n",
        "\n",
        "Now, we must have noticed that `publisherId` column has the numeric data type. But these are different categories of the column. We cannot use this feature as a numeric one.\n",
        "\n",
        "But we will use this column to create another feature: `frequency per publisher id`. For example, we have `publisher id: 50`\n",
        "\n",
        "And id `50` is present in `45000` data points.\n",
        "\n",
        "So the frequency per publisher id for `id:50` is `45000`\n",
        "\n",
        "---\n",
        "\n",
        "To find out this we will first create a dataframe `total_p_id` which will have the total data points for each publisher id.\n",
        "\n",
        "---"
      ],
      "metadata": {
        "id": "gW5JzBoPk3Sa"
      }
    },
    {
      "cell_type": "code",
      "source": [
        "## groupby to calculate total data points for each publisher id.\n",
        "total_p_id = train_data.groupBy(\"publisherId\").agg(F.count(\"ConversionStatus\").alias(\"total_p_id\"))\n",
        "total_p_id.show()"
      ],
      "metadata": {
        "colab": {
          "base_uri": "https://localhost:8080/"
        },
        "id": "9pJQCaWdk4l9",
        "outputId": "2596c8b9-eb12-4d55-d6db-38b13ab813b4"
      },
      "execution_count": null,
      "outputs": [
        {
          "output_type": "stream",
          "name": "stdout",
          "text": [
            "+-----------+----------+\n",
            "|publisherId|total_p_id|\n",
            "+-----------+----------+\n",
            "|      37311|         8|\n",
            "|       6240|        62|\n",
            "|      42370|       105|\n",
            "|      35640|         9|\n",
            "|      37774|         1|\n",
            "|      39457|         5|\n",
            "|      39458|         9|\n",
            "|      38223|         6|\n",
            "|      31713|         1|\n",
            "|      18314|         1|\n",
            "|        125|        63|\n",
            "|      28524|        13|\n",
            "|       9569|         6|\n",
            "|      27339|        30|\n",
            "|      17910|         2|\n",
            "|       6366|         1|\n",
            "|      38526|         2|\n",
            "|      33774|         1|\n",
            "|        853|         1|\n",
            "|      41009|         3|\n",
            "+-----------+----------+\n",
            "only showing top 20 rows\n",
            "\n"
          ]
        }
      ]
    },
    {
      "cell_type": "markdown",
      "source": [
        "---\n",
        "\n",
        "Next, we will join this feature with the original train data.\n",
        "\n",
        "---"
      ],
      "metadata": {
        "id": "Ymw1gm8-k6Ju"
      }
    },
    {
      "cell_type": "code",
      "source": [
        "# now, we will join this data with the original train data\n",
        "train_data = train_data.join(total_p_id, on=\"publisherId\")"
      ],
      "metadata": {
        "id": "CfxEVyR2k7Y1"
      },
      "execution_count": null,
      "outputs": []
    },
    {
      "cell_type": "code",
      "source": [
        "train_data.select(\"publisherId\", \"total_p_id\").show()"
      ],
      "metadata": {
        "colab": {
          "base_uri": "https://localhost:8080/"
        },
        "id": "6jqOwcibk8nk",
        "outputId": "9a16aeda-f900-440c-a242-34fcab726c0d"
      },
      "execution_count": null,
      "outputs": [
        {
          "output_type": "stream",
          "name": "stdout",
          "text": [
            "+-----------+----------+\n",
            "|publisherId|total_p_id|\n",
            "+-----------+----------+\n",
            "|      37311|         8|\n",
            "|       6240|        62|\n",
            "|      42370|       105|\n",
            "|      42370|       105|\n",
            "|      42370|       105|\n",
            "|      42370|       105|\n",
            "|       6240|        62|\n",
            "|      42370|       105|\n",
            "|      42370|       105|\n",
            "|      42370|       105|\n",
            "|       6240|        62|\n",
            "|      35640|         9|\n",
            "|      35640|         9|\n",
            "|      42370|       105|\n",
            "|      37774|         1|\n",
            "|       6240|        62|\n",
            "|      42370|       105|\n",
            "|      42370|       105|\n",
            "|      42370|       105|\n",
            "|      42370|       105|\n",
            "+-----------+----------+\n",
            "only showing top 20 rows\n",
            "\n"
          ]
        }
      ]
    },
    {
      "cell_type": "markdown",
      "source": [
        "Make the transformation on test data"
      ],
      "metadata": {
        "id": "FN4JH0kuk_DL"
      }
    },
    {
      "cell_type": "code",
      "source": [
        "# now, we will join this data with the original test data\n",
        "\n",
        "# validation\n",
        "valid_data = valid_data.join(total_p_id, on=\"publisherId\")\n",
        "# test\n",
        "test_data = test_data.join(total_p_id, on=\"publisherId\")"
      ],
      "metadata": {
        "id": "VZZdTzzulAd0"
      },
      "execution_count": null,
      "outputs": []
    },
    {
      "cell_type": "markdown",
      "source": [
        "---\n",
        "\n",
        "#### `Column - Advertiser Campaign ID`\n",
        "\n",
        "\n",
        "---\n",
        "\n",
        "Now, we will explore the `Campaign ID` and find out the number of distinct values in it.\n",
        "\n",
        "---"
      ],
      "metadata": {
        "id": "wCCfEZdBlClh"
      }
    },
    {
      "cell_type": "code",
      "source": [
        "train_data.agg(F.countDistinct(\"advertiserCampaignId\")).show()"
      ],
      "metadata": {
        "colab": {
          "base_uri": "https://localhost:8080/"
        },
        "id": "T8aLWx5OlGe3",
        "outputId": "7a28ab40-6c5f-421f-ed08-b84f2806c7ba"
      },
      "execution_count": null,
      "outputs": [
        {
          "output_type": "stream",
          "name": "stdout",
          "text": [
            "+------------------------------------+\n",
            "|count(DISTINCT advertiserCampaignId)|\n",
            "+------------------------------------+\n",
            "|                                 500|\n",
            "+------------------------------------+\n",
            "\n"
          ]
        }
      ]
    },
    {
      "cell_type": "markdown",
      "source": [
        "---\n",
        "\n",
        "This feature is similar to the `publisherId` which looks numeric but actually categorical. So, we will do the same procedure as we did on the `publisherId`. And here we will calculate the `frequency per campaign id`\n",
        "\n",
        "\n",
        "First we will calculate the total data points for each campaign id.\n",
        "\n",
        "---"
      ],
      "metadata": {
        "id": "pCuoD7QKlHyI"
      }
    },
    {
      "cell_type": "code",
      "source": [
        "## groupby to calculate total data points for each campaign id.\n",
        "total_c_id = train_data.groupBy(\"advertiserCampaignId\").agg(F.count(\"ConversionStatus\").alias(\"total_c_id\"))\n",
        "total_c_id.show()"
      ],
      "metadata": {
        "colab": {
          "base_uri": "https://localhost:8080/"
        },
        "id": "PO4DhsJIlI3B",
        "outputId": "3b7ddb82-e342-4220-e842-3f9587df7472"
      },
      "execution_count": null,
      "outputs": [
        {
          "output_type": "stream",
          "name": "stdout",
          "text": [
            "+--------------------+----------+\n",
            "|advertiserCampaignId|total_c_id|\n",
            "+--------------------+----------+\n",
            "|             12671.0|       441|\n",
            "|             14269.0|       344|\n",
            "|             13607.0|        21|\n",
            "|              7791.0|      1782|\n",
            "|             13811.0|        58|\n",
            "|              4385.0|     12034|\n",
            "|             10130.0|        20|\n",
            "|               735.0|     30971|\n",
            "|             16800.0|        15|\n",
            "|             14208.0|        59|\n",
            "|             15823.0|        36|\n",
            "|             12061.0|      6850|\n",
            "|                 0.0|      2574|\n",
            "|             12555.0|        97|\n",
            "|             15428.0|         3|\n",
            "|             14353.0|        15|\n",
            "|             11830.0|      7719|\n",
            "|             16060.0|      5624|\n",
            "|             12690.0|        54|\n",
            "|             16653.0|        25|\n",
            "+--------------------+----------+\n",
            "only showing top 20 rows\n",
            "\n"
          ]
        }
      ]
    },
    {
      "cell_type": "code",
      "source": [
        "train_data = train_data.join(total_c_id, on=\"advertiserCampaignId\")"
      ],
      "metadata": {
        "id": "WikyW_WFlKH2"
      },
      "execution_count": null,
      "outputs": []
    },
    {
      "cell_type": "code",
      "source": [
        "train_data.select(\"advertiserCampaignId\", \"total_c_id\").show()"
      ],
      "metadata": {
        "colab": {
          "base_uri": "https://localhost:8080/"
        },
        "id": "fkd_7YG3lLUi",
        "outputId": "3d46b35a-cc6b-4bcd-d0c6-fcd1114af12e"
      },
      "execution_count": null,
      "outputs": [
        {
          "output_type": "stream",
          "name": "stdout",
          "text": [
            "+--------------------+----------+\n",
            "|advertiserCampaignId|total_c_id|\n",
            "+--------------------+----------+\n",
            "|             12671.0|       441|\n",
            "|             12671.0|       441|\n",
            "|             12671.0|       441|\n",
            "|             12671.0|       441|\n",
            "|             12671.0|       441|\n",
            "|             12671.0|       441|\n",
            "|             12671.0|       441|\n",
            "|             12671.0|       441|\n",
            "|             12671.0|       441|\n",
            "|             12671.0|       441|\n",
            "|             12671.0|       441|\n",
            "|             12671.0|       441|\n",
            "|             12671.0|       441|\n",
            "|             12671.0|       441|\n",
            "|             12671.0|       441|\n",
            "|             12671.0|       441|\n",
            "|             12671.0|       441|\n",
            "|             12671.0|       441|\n",
            "|             12671.0|       441|\n",
            "|             12671.0|       441|\n",
            "+--------------------+----------+\n",
            "only showing top 20 rows\n",
            "\n"
          ]
        }
      ]
    },
    {
      "cell_type": "markdown",
      "source": [
        "Make the transformation on test data"
      ],
      "metadata": {
        "id": "r6P6hLiOlNj5"
      }
    },
    {
      "cell_type": "code",
      "source": [
        "# validation data\n",
        "valid_data = valid_data.join(total_c_id, on=\"advertiserCampaignId\")\n",
        "# test data\n",
        "test_data = test_data.join(total_c_id, on=\"advertiserCampaignId\")"
      ],
      "metadata": {
        "id": "QcNgys9glPIT"
      },
      "execution_count": null,
      "outputs": []
    },
    {
      "cell_type": "markdown",
      "source": [
        "---\n",
        "\n",
        "## 6. `BIVARIATE ANALYSIS`\n",
        "\n",
        "---\n",
        "\n",
        "#### `Number of Clicks for each category of Country`\n",
        "\n",
        "---"
      ],
      "metadata": {
        "id": "IJ5sXQ7SlQ--"
      }
    },
    {
      "cell_type": "code",
      "source": [
        "# number of datapoints with each country\n",
        "top_countries_with_clicks = train_data.groupBy(\"country_modified\").agg(F.count(\"country_modified\").alias(\"country_count\"),\n",
        "                                                                       F.sum(\"ConversionStatus\").alias(\"number_of_clicks\"))\n",
        "top_countries_with_clicks.show()"
      ],
      "metadata": {
        "colab": {
          "base_uri": "https://localhost:8080/"
        },
        "id": "UtjhbLgglZLi",
        "outputId": "4106ea1e-2b23-4aad-e52e-c39d049ad9ea"
      },
      "execution_count": null,
      "outputs": [
        {
          "output_type": "stream",
          "name": "stdout",
          "text": [
            "+----------------+-------------+----------------+\n",
            "|country_modified|country_count|number_of_clicks|\n",
            "+----------------+-------------+----------------+\n",
            "|              DZ|        13232|              12|\n",
            "|              MX|        58908|              15|\n",
            "|              RU|        41288|             103|\n",
            "|              IQ|        12581|               7|\n",
            "|              BD|       106338|             198|\n",
            "|              ID|       119701|             113|\n",
            "|              BR|        57664|              31|\n",
            "|              GT|        13781|              10|\n",
            "|              VE|        15405|               1|\n",
            "|              ZA|        15835|              18|\n",
            "|              KR|        12906|               0|\n",
            "|              US|        26339|               6|\n",
            "|              MY|        29340|              18|\n",
            "|              IN|       391465|              82|\n",
            "|              AE|        10512|               1|\n",
            "|              PH|        19815|              15|\n",
            "|          Others|       154135|              83|\n",
            "|              TH|       230027|              97|\n",
            "|              BO|        21602|               4|\n",
            "|              CO|        12877|               7|\n",
            "+----------------+-------------+----------------+\n",
            "only showing top 20 rows\n",
            "\n"
          ]
        }
      ]
    },
    {
      "cell_type": "code",
      "source": [
        "# create new column of percentage of clicks\n",
        "top_countries_with_clicks = top_countries_with_clicks.withColumn(\"percentage_of_clicks\", (top_countries_with_clicks[\"number_of_clicks\"]/top_countries_with_clicks[\"country_count\"])*100)"
      ],
      "metadata": {
        "id": "BNOfCKAHlaZo"
      },
      "execution_count": null,
      "outputs": []
    },
    {
      "cell_type": "code",
      "source": [
        "# Sort the dataframe by percentage of clicks in descending order\n",
        "top_countries_with_clicks= top_countries_with_clicks.orderBy(\"percentage_of_clicks\", ascending = False).toPandas()\n",
        "top_countries_with_clicks"
      ],
      "metadata": {
        "colab": {
          "base_uri": "https://localhost:8080/",
          "height": 707
        },
        "id": "gN7-knRMlboF",
        "outputId": "64426e85-de29-4f8e-97d1-3217d4b77cfb"
      },
      "execution_count": null,
      "outputs": [
        {
          "output_type": "execute_result",
          "data": {
            "text/plain": [
              "   country_modified  country_count  number_of_clicks  percentage_of_clicks\n",
              "0                RU          41288               103              0.249467\n",
              "1                BD         106338               198              0.186199\n",
              "2                NG          36244                53              0.146231\n",
              "3                ZA          15835                18              0.113672\n",
              "4                ID         119701               113              0.094402\n",
              "5                DZ          13232                12              0.090689\n",
              "6                PH          19815                15              0.075700\n",
              "7                GT          13781                10              0.072564\n",
              "8                MY          29340                18              0.061350\n",
              "9                IQ          12581                 7              0.055639\n",
              "10               CO          12877                 7              0.054360\n",
              "11           Others         154135                83              0.053849\n",
              "12               BR          57664                31              0.053760\n",
              "13               TH         230027                97              0.042169\n",
              "14               MX          58908                15              0.025463\n",
              "15               US          26339                 6              0.022780\n",
              "16               IN         391465                82              0.020947\n",
              "17               BO          21602                 4              0.018517\n",
              "18               AE          10512                 1              0.009513\n",
              "19               VE          15405                 1              0.006491\n",
              "20               KR          12906                 0              0.000000"
            ],
            "text/html": [
              "\n",
              "  <div id=\"df-4b2c5c48-1457-4db3-9552-5307aea8606f\" class=\"colab-df-container\">\n",
              "    <div>\n",
              "<style scoped>\n",
              "    .dataframe tbody tr th:only-of-type {\n",
              "        vertical-align: middle;\n",
              "    }\n",
              "\n",
              "    .dataframe tbody tr th {\n",
              "        vertical-align: top;\n",
              "    }\n",
              "\n",
              "    .dataframe thead th {\n",
              "        text-align: right;\n",
              "    }\n",
              "</style>\n",
              "<table border=\"1\" class=\"dataframe\">\n",
              "  <thead>\n",
              "    <tr style=\"text-align: right;\">\n",
              "      <th></th>\n",
              "      <th>country_modified</th>\n",
              "      <th>country_count</th>\n",
              "      <th>number_of_clicks</th>\n",
              "      <th>percentage_of_clicks</th>\n",
              "    </tr>\n",
              "  </thead>\n",
              "  <tbody>\n",
              "    <tr>\n",
              "      <th>0</th>\n",
              "      <td>RU</td>\n",
              "      <td>41288</td>\n",
              "      <td>103</td>\n",
              "      <td>0.249467</td>\n",
              "    </tr>\n",
              "    <tr>\n",
              "      <th>1</th>\n",
              "      <td>BD</td>\n",
              "      <td>106338</td>\n",
              "      <td>198</td>\n",
              "      <td>0.186199</td>\n",
              "    </tr>\n",
              "    <tr>\n",
              "      <th>2</th>\n",
              "      <td>NG</td>\n",
              "      <td>36244</td>\n",
              "      <td>53</td>\n",
              "      <td>0.146231</td>\n",
              "    </tr>\n",
              "    <tr>\n",
              "      <th>3</th>\n",
              "      <td>ZA</td>\n",
              "      <td>15835</td>\n",
              "      <td>18</td>\n",
              "      <td>0.113672</td>\n",
              "    </tr>\n",
              "    <tr>\n",
              "      <th>4</th>\n",
              "      <td>ID</td>\n",
              "      <td>119701</td>\n",
              "      <td>113</td>\n",
              "      <td>0.094402</td>\n",
              "    </tr>\n",
              "    <tr>\n",
              "      <th>5</th>\n",
              "      <td>DZ</td>\n",
              "      <td>13232</td>\n",
              "      <td>12</td>\n",
              "      <td>0.090689</td>\n",
              "    </tr>\n",
              "    <tr>\n",
              "      <th>6</th>\n",
              "      <td>PH</td>\n",
              "      <td>19815</td>\n",
              "      <td>15</td>\n",
              "      <td>0.075700</td>\n",
              "    </tr>\n",
              "    <tr>\n",
              "      <th>7</th>\n",
              "      <td>GT</td>\n",
              "      <td>13781</td>\n",
              "      <td>10</td>\n",
              "      <td>0.072564</td>\n",
              "    </tr>\n",
              "    <tr>\n",
              "      <th>8</th>\n",
              "      <td>MY</td>\n",
              "      <td>29340</td>\n",
              "      <td>18</td>\n",
              "      <td>0.061350</td>\n",
              "    </tr>\n",
              "    <tr>\n",
              "      <th>9</th>\n",
              "      <td>IQ</td>\n",
              "      <td>12581</td>\n",
              "      <td>7</td>\n",
              "      <td>0.055639</td>\n",
              "    </tr>\n",
              "    <tr>\n",
              "      <th>10</th>\n",
              "      <td>CO</td>\n",
              "      <td>12877</td>\n",
              "      <td>7</td>\n",
              "      <td>0.054360</td>\n",
              "    </tr>\n",
              "    <tr>\n",
              "      <th>11</th>\n",
              "      <td>Others</td>\n",
              "      <td>154135</td>\n",
              "      <td>83</td>\n",
              "      <td>0.053849</td>\n",
              "    </tr>\n",
              "    <tr>\n",
              "      <th>12</th>\n",
              "      <td>BR</td>\n",
              "      <td>57664</td>\n",
              "      <td>31</td>\n",
              "      <td>0.053760</td>\n",
              "    </tr>\n",
              "    <tr>\n",
              "      <th>13</th>\n",
              "      <td>TH</td>\n",
              "      <td>230027</td>\n",
              "      <td>97</td>\n",
              "      <td>0.042169</td>\n",
              "    </tr>\n",
              "    <tr>\n",
              "      <th>14</th>\n",
              "      <td>MX</td>\n",
              "      <td>58908</td>\n",
              "      <td>15</td>\n",
              "      <td>0.025463</td>\n",
              "    </tr>\n",
              "    <tr>\n",
              "      <th>15</th>\n",
              "      <td>US</td>\n",
              "      <td>26339</td>\n",
              "      <td>6</td>\n",
              "      <td>0.022780</td>\n",
              "    </tr>\n",
              "    <tr>\n",
              "      <th>16</th>\n",
              "      <td>IN</td>\n",
              "      <td>391465</td>\n",
              "      <td>82</td>\n",
              "      <td>0.020947</td>\n",
              "    </tr>\n",
              "    <tr>\n",
              "      <th>17</th>\n",
              "      <td>BO</td>\n",
              "      <td>21602</td>\n",
              "      <td>4</td>\n",
              "      <td>0.018517</td>\n",
              "    </tr>\n",
              "    <tr>\n",
              "      <th>18</th>\n",
              "      <td>AE</td>\n",
              "      <td>10512</td>\n",
              "      <td>1</td>\n",
              "      <td>0.009513</td>\n",
              "    </tr>\n",
              "    <tr>\n",
              "      <th>19</th>\n",
              "      <td>VE</td>\n",
              "      <td>15405</td>\n",
              "      <td>1</td>\n",
              "      <td>0.006491</td>\n",
              "    </tr>\n",
              "    <tr>\n",
              "      <th>20</th>\n",
              "      <td>KR</td>\n",
              "      <td>12906</td>\n",
              "      <td>0</td>\n",
              "      <td>0.000000</td>\n",
              "    </tr>\n",
              "  </tbody>\n",
              "</table>\n",
              "</div>\n",
              "    <div class=\"colab-df-buttons\">\n",
              "\n",
              "  <div class=\"colab-df-container\">\n",
              "    <button class=\"colab-df-convert\" onclick=\"convertToInteractive('df-4b2c5c48-1457-4db3-9552-5307aea8606f')\"\n",
              "            title=\"Convert this dataframe to an interactive table.\"\n",
              "            style=\"display:none;\">\n",
              "\n",
              "  <svg xmlns=\"http://www.w3.org/2000/svg\" height=\"24px\" viewBox=\"0 -960 960 960\">\n",
              "    <path d=\"M120-120v-720h720v720H120Zm60-500h600v-160H180v160Zm220 220h160v-160H400v160Zm0 220h160v-160H400v160ZM180-400h160v-160H180v160Zm440 0h160v-160H620v160ZM180-180h160v-160H180v160Zm440 0h160v-160H620v160Z\"/>\n",
              "  </svg>\n",
              "    </button>\n",
              "\n",
              "  <style>\n",
              "    .colab-df-container {\n",
              "      display:flex;\n",
              "      gap: 12px;\n",
              "    }\n",
              "\n",
              "    .colab-df-convert {\n",
              "      background-color: #E8F0FE;\n",
              "      border: none;\n",
              "      border-radius: 50%;\n",
              "      cursor: pointer;\n",
              "      display: none;\n",
              "      fill: #1967D2;\n",
              "      height: 32px;\n",
              "      padding: 0 0 0 0;\n",
              "      width: 32px;\n",
              "    }\n",
              "\n",
              "    .colab-df-convert:hover {\n",
              "      background-color: #E2EBFA;\n",
              "      box-shadow: 0px 1px 2px rgba(60, 64, 67, 0.3), 0px 1px 3px 1px rgba(60, 64, 67, 0.15);\n",
              "      fill: #174EA6;\n",
              "    }\n",
              "\n",
              "    .colab-df-buttons div {\n",
              "      margin-bottom: 4px;\n",
              "    }\n",
              "\n",
              "    [theme=dark] .colab-df-convert {\n",
              "      background-color: #3B4455;\n",
              "      fill: #D2E3FC;\n",
              "    }\n",
              "\n",
              "    [theme=dark] .colab-df-convert:hover {\n",
              "      background-color: #434B5C;\n",
              "      box-shadow: 0px 1px 3px 1px rgba(0, 0, 0, 0.15);\n",
              "      filter: drop-shadow(0px 1px 2px rgba(0, 0, 0, 0.3));\n",
              "      fill: #FFFFFF;\n",
              "    }\n",
              "  </style>\n",
              "\n",
              "    <script>\n",
              "      const buttonEl =\n",
              "        document.querySelector('#df-4b2c5c48-1457-4db3-9552-5307aea8606f button.colab-df-convert');\n",
              "      buttonEl.style.display =\n",
              "        google.colab.kernel.accessAllowed ? 'block' : 'none';\n",
              "\n",
              "      async function convertToInteractive(key) {\n",
              "        const element = document.querySelector('#df-4b2c5c48-1457-4db3-9552-5307aea8606f');\n",
              "        const dataTable =\n",
              "          await google.colab.kernel.invokeFunction('convertToInteractive',\n",
              "                                                    [key], {});\n",
              "        if (!dataTable) return;\n",
              "\n",
              "        const docLinkHtml = 'Like what you see? Visit the ' +\n",
              "          '<a target=\"_blank\" href=https://colab.research.google.com/notebooks/data_table.ipynb>data table notebook</a>'\n",
              "          + ' to learn more about interactive tables.';\n",
              "        element.innerHTML = '';\n",
              "        dataTable['output_type'] = 'display_data';\n",
              "        await google.colab.output.renderOutput(dataTable, element);\n",
              "        const docLink = document.createElement('div');\n",
              "        docLink.innerHTML = docLinkHtml;\n",
              "        element.appendChild(docLink);\n",
              "      }\n",
              "    </script>\n",
              "  </div>\n",
              "\n",
              "\n",
              "<div id=\"df-dd94d218-c284-46e2-8f94-c0bc94423d89\">\n",
              "  <button class=\"colab-df-quickchart\" onclick=\"quickchart('df-dd94d218-c284-46e2-8f94-c0bc94423d89')\"\n",
              "            title=\"Suggest charts\"\n",
              "            style=\"display:none;\">\n",
              "\n",
              "<svg xmlns=\"http://www.w3.org/2000/svg\" height=\"24px\"viewBox=\"0 0 24 24\"\n",
              "     width=\"24px\">\n",
              "    <g>\n",
              "        <path d=\"M19 3H5c-1.1 0-2 .9-2 2v14c0 1.1.9 2 2 2h14c1.1 0 2-.9 2-2V5c0-1.1-.9-2-2-2zM9 17H7v-7h2v7zm4 0h-2V7h2v10zm4 0h-2v-4h2v4z\"/>\n",
              "    </g>\n",
              "</svg>\n",
              "  </button>\n",
              "\n",
              "<style>\n",
              "  .colab-df-quickchart {\n",
              "      --bg-color: #E8F0FE;\n",
              "      --fill-color: #1967D2;\n",
              "      --hover-bg-color: #E2EBFA;\n",
              "      --hover-fill-color: #174EA6;\n",
              "      --disabled-fill-color: #AAA;\n",
              "      --disabled-bg-color: #DDD;\n",
              "  }\n",
              "\n",
              "  [theme=dark] .colab-df-quickchart {\n",
              "      --bg-color: #3B4455;\n",
              "      --fill-color: #D2E3FC;\n",
              "      --hover-bg-color: #434B5C;\n",
              "      --hover-fill-color: #FFFFFF;\n",
              "      --disabled-bg-color: #3B4455;\n",
              "      --disabled-fill-color: #666;\n",
              "  }\n",
              "\n",
              "  .colab-df-quickchart {\n",
              "    background-color: var(--bg-color);\n",
              "    border: none;\n",
              "    border-radius: 50%;\n",
              "    cursor: pointer;\n",
              "    display: none;\n",
              "    fill: var(--fill-color);\n",
              "    height: 32px;\n",
              "    padding: 0;\n",
              "    width: 32px;\n",
              "  }\n",
              "\n",
              "  .colab-df-quickchart:hover {\n",
              "    background-color: var(--hover-bg-color);\n",
              "    box-shadow: 0 1px 2px rgba(60, 64, 67, 0.3), 0 1px 3px 1px rgba(60, 64, 67, 0.15);\n",
              "    fill: var(--button-hover-fill-color);\n",
              "  }\n",
              "\n",
              "  .colab-df-quickchart-complete:disabled,\n",
              "  .colab-df-quickchart-complete:disabled:hover {\n",
              "    background-color: var(--disabled-bg-color);\n",
              "    fill: var(--disabled-fill-color);\n",
              "    box-shadow: none;\n",
              "  }\n",
              "\n",
              "  .colab-df-spinner {\n",
              "    border: 2px solid var(--fill-color);\n",
              "    border-color: transparent;\n",
              "    border-bottom-color: var(--fill-color);\n",
              "    animation:\n",
              "      spin 1s steps(1) infinite;\n",
              "  }\n",
              "\n",
              "  @keyframes spin {\n",
              "    0% {\n",
              "      border-color: transparent;\n",
              "      border-bottom-color: var(--fill-color);\n",
              "      border-left-color: var(--fill-color);\n",
              "    }\n",
              "    20% {\n",
              "      border-color: transparent;\n",
              "      border-left-color: var(--fill-color);\n",
              "      border-top-color: var(--fill-color);\n",
              "    }\n",
              "    30% {\n",
              "      border-color: transparent;\n",
              "      border-left-color: var(--fill-color);\n",
              "      border-top-color: var(--fill-color);\n",
              "      border-right-color: var(--fill-color);\n",
              "    }\n",
              "    40% {\n",
              "      border-color: transparent;\n",
              "      border-right-color: var(--fill-color);\n",
              "      border-top-color: var(--fill-color);\n",
              "    }\n",
              "    60% {\n",
              "      border-color: transparent;\n",
              "      border-right-color: var(--fill-color);\n",
              "    }\n",
              "    80% {\n",
              "      border-color: transparent;\n",
              "      border-right-color: var(--fill-color);\n",
              "      border-bottom-color: var(--fill-color);\n",
              "    }\n",
              "    90% {\n",
              "      border-color: transparent;\n",
              "      border-bottom-color: var(--fill-color);\n",
              "    }\n",
              "  }\n",
              "</style>\n",
              "\n",
              "  <script>\n",
              "    async function quickchart(key) {\n",
              "      const quickchartButtonEl =\n",
              "        document.querySelector('#' + key + ' button');\n",
              "      quickchartButtonEl.disabled = true;  // To prevent multiple clicks.\n",
              "      quickchartButtonEl.classList.add('colab-df-spinner');\n",
              "      try {\n",
              "        const charts = await google.colab.kernel.invokeFunction(\n",
              "            'suggestCharts', [key], {});\n",
              "      } catch (error) {\n",
              "        console.error('Error during call to suggestCharts:', error);\n",
              "      }\n",
              "      quickchartButtonEl.classList.remove('colab-df-spinner');\n",
              "      quickchartButtonEl.classList.add('colab-df-quickchart-complete');\n",
              "    }\n",
              "    (() => {\n",
              "      let quickchartButtonEl =\n",
              "        document.querySelector('#df-dd94d218-c284-46e2-8f94-c0bc94423d89 button');\n",
              "      quickchartButtonEl.style.display =\n",
              "        google.colab.kernel.accessAllowed ? 'block' : 'none';\n",
              "    })();\n",
              "  </script>\n",
              "</div>\n",
              "\n",
              "  <div id=\"id_b223972b-5e32-410e-90e5-7ad8140c8b34\">\n",
              "    <style>\n",
              "      .colab-df-generate {\n",
              "        background-color: #E8F0FE;\n",
              "        border: none;\n",
              "        border-radius: 50%;\n",
              "        cursor: pointer;\n",
              "        display: none;\n",
              "        fill: #1967D2;\n",
              "        height: 32px;\n",
              "        padding: 0 0 0 0;\n",
              "        width: 32px;\n",
              "      }\n",
              "\n",
              "      .colab-df-generate:hover {\n",
              "        background-color: #E2EBFA;\n",
              "        box-shadow: 0px 1px 2px rgba(60, 64, 67, 0.3), 0px 1px 3px 1px rgba(60, 64, 67, 0.15);\n",
              "        fill: #174EA6;\n",
              "      }\n",
              "\n",
              "      [theme=dark] .colab-df-generate {\n",
              "        background-color: #3B4455;\n",
              "        fill: #D2E3FC;\n",
              "      }\n",
              "\n",
              "      [theme=dark] .colab-df-generate:hover {\n",
              "        background-color: #434B5C;\n",
              "        box-shadow: 0px 1px 3px 1px rgba(0, 0, 0, 0.15);\n",
              "        filter: drop-shadow(0px 1px 2px rgba(0, 0, 0, 0.3));\n",
              "        fill: #FFFFFF;\n",
              "      }\n",
              "    </style>\n",
              "    <button class=\"colab-df-generate\" onclick=\"generateWithVariable('top_countries_with_clicks')\"\n",
              "            title=\"Generate code using this dataframe.\"\n",
              "            style=\"display:none;\">\n",
              "\n",
              "  <svg xmlns=\"http://www.w3.org/2000/svg\" height=\"24px\"viewBox=\"0 0 24 24\"\n",
              "       width=\"24px\">\n",
              "    <path d=\"M7,19H8.4L18.45,9,17,7.55,7,17.6ZM5,21V16.75L18.45,3.32a2,2,0,0,1,2.83,0l1.4,1.43a1.91,1.91,0,0,1,.58,1.4,1.91,1.91,0,0,1-.58,1.4L9.25,21ZM18.45,9,17,7.55Zm-12,3A5.31,5.31,0,0,0,4.9,8.1,5.31,5.31,0,0,0,1,6.5,5.31,5.31,0,0,0,4.9,4.9,5.31,5.31,0,0,0,6.5,1,5.31,5.31,0,0,0,8.1,4.9,5.31,5.31,0,0,0,12,6.5,5.46,5.46,0,0,0,6.5,12Z\"/>\n",
              "  </svg>\n",
              "    </button>\n",
              "    <script>\n",
              "      (() => {\n",
              "      const buttonEl =\n",
              "        document.querySelector('#id_b223972b-5e32-410e-90e5-7ad8140c8b34 button.colab-df-generate');\n",
              "      buttonEl.style.display =\n",
              "        google.colab.kernel.accessAllowed ? 'block' : 'none';\n",
              "\n",
              "      buttonEl.onclick = () => {\n",
              "        google.colab.notebook.generateWithVariable('top_countries_with_clicks');\n",
              "      }\n",
              "      })();\n",
              "    </script>\n",
              "  </div>\n",
              "\n",
              "    </div>\n",
              "  </div>\n"
            ],
            "application/vnd.google.colaboratory.intrinsic+json": {
              "type": "dataframe",
              "variable_name": "top_countries_with_clicks",
              "summary": "{\n  \"name\": \"top_countries_with_clicks\",\n  \"rows\": 21,\n  \"fields\": [\n    {\n      \"column\": \"country_modified\",\n      \"properties\": {\n        \"dtype\": \"string\",\n        \"num_unique_values\": 21,\n        \"samples\": [\n          \"RU\",\n          \"BO\",\n          \"US\"\n        ],\n        \"semantic_type\": \"\",\n        \"description\": \"\"\n      }\n    },\n    {\n      \"column\": \"country_count\",\n      \"properties\": {\n        \"dtype\": \"number\",\n        \"std\": 93781,\n        \"min\": 10512,\n        \"max\": 391465,\n        \"num_unique_values\": 21,\n        \"samples\": [\n          41288,\n          21602,\n          26339\n        ],\n        \"semantic_type\": \"\",\n        \"description\": \"\"\n      }\n    },\n    {\n      \"column\": \"number_of_clicks\",\n      \"properties\": {\n        \"dtype\": \"number\",\n        \"std\": 52,\n        \"min\": 0,\n        \"max\": 198,\n        \"num_unique_values\": 17,\n        \"samples\": [\n          103,\n          198,\n          12\n        ],\n        \"semantic_type\": \"\",\n        \"description\": \"\"\n      }\n    },\n    {\n      \"column\": \"percentage_of_clicks\",\n      \"properties\": {\n        \"dtype\": \"number\",\n        \"std\": 0.06251634450189296,\n        \"min\": 0.0,\n        \"max\": 0.24946715752761092,\n        \"num_unique_values\": 21,\n        \"samples\": [\n          0.24946715752761092,\n          0.018516803999629666,\n          0.022779908121037244\n        ],\n        \"semantic_type\": \"\",\n        \"description\": \"\"\n      }\n    }\n  ]\n}"
            }
          },
          "metadata": {},
          "execution_count": 53
        }
      ]
    },
    {
      "cell_type": "code",
      "source": [
        "# bar plot of top countries\n",
        "plt.figure(figsize=(15,5))\n",
        "plt.xticks(rotation=45)\n",
        "plt.title(\"click percentage of top 20 countries\")\n",
        "plt.bar(top_countries_with_clicks[\"country_modified\"], top_countries_with_clicks[\"percentage_of_clicks\"]);"
      ],
      "metadata": {
        "colab": {
          "base_uri": "https://localhost:8080/",
          "height": 408
        },
        "id": "_ErHKzrslcub",
        "outputId": "56b5e00b-d343-4a27-f399-4233b57608b8"
      },
      "execution_count": null,
      "outputs": [
        {
          "output_type": "display_data",
          "data": {
            "text/plain": [
              "<Figure size 1500x500 with 1 Axes>"
            ],
            "image/png": "[encoded data removed]"
          },
          "metadata": {}
        }
      ]
    },
    {
      "cell_type": "markdown",
      "source": [
        "---\n",
        "\n",
        "Here, we can see that top 4 countries have atleast 0.1 percent of click rate. So, we can also further reduce the categories upto 4 and map rest of them as Others. For now, we are going ahead with the 21 categories in the country column.\n",
        "\n",
        "---"
      ],
      "metadata": {
        "id": "FVEpZoScld2A"
      }
    },
    {
      "cell_type": "markdown",
      "source": [
        "#### `Number of Clicks for each category of Browser`\n",
        "\n",
        "---"
      ],
      "metadata": {
        "id": "H_odMcNSlfIK"
      }
    },
    {
      "cell_type": "code",
      "source": [
        "# number of datapoints with each country\n",
        "top_browsers_with_clicks = train_data.groupBy(\"browser_modified\").agg(F.count(\"browser_modified\").alias(\"browser_count\"),\n",
        "                                                                       F.sum(\"ConversionStatus\").alias(\"number_of_clicks\"))\n",
        "top_browsers_with_clicks.show()"
      ],
      "metadata": {
        "colab": {
          "base_uri": "https://localhost:8080/"
        },
        "id": "aErUd3AglgUh",
        "outputId": "45e5294f-b7c8-4a06-d4f0-763935ca0508"
      },
      "execution_count": null,
      "outputs": [
        {
          "output_type": "stream",
          "name": "stdout",
          "text": [
            "+----------------+-------------+----------------+\n",
            "|browser_modified|browser_count|number_of_clicks|\n",
            "+----------------+-------------+----------------+\n",
            "|         firefox|         1307|               0|\n",
            "|          chrome|      1349014|             859|\n",
            "|          others|        37662|              12|\n",
            "|          safari|        12012|               3|\n",
            "+----------------+-------------+----------------+\n",
            "\n"
          ]
        }
      ]
    },
    {
      "cell_type": "markdown",
      "source": [
        "---\n",
        "\n",
        "It is very clear from the above data, that almost 99.9 percent of the clicks are coming from the `chrome` browser So, we also reduce the categories to 2 only, `chrome` and `not chrome`.\n",
        "\n",
        "---"
      ],
      "metadata": {
        "id": "n7VH5MSolh4o"
      }
    },
    {
      "cell_type": "markdown",
      "source": [
        "#### `Number of Clicks for each category of Device`\n",
        "\n",
        "---"
      ],
      "metadata": {
        "id": "Zsv62-pOljbS"
      }
    },
    {
      "cell_type": "code",
      "source": [
        "# number of datapoints with each country\n",
        "top_devices_with_clicks = train_data.groupBy(\"device_modified\").agg(F.count(\"device_modified\").alias(\"device_count\"),\n",
        "                                                                    F.sum(\"ConversionStatus\").alias(\"number_of_clicks\"))\n",
        "top_devices_with_clicks.show()"
      ],
      "metadata": {
        "colab": {
          "base_uri": "https://localhost:8080/"
        },
        "id": "ikq4Dft1lkeq",
        "outputId": "1c1877f0-9e42-48f4-97e8-bd8957febdd3"
      },
      "execution_count": null,
      "outputs": [
        {
          "output_type": "stream",
          "name": "stdout",
          "text": [
            "+---------------+------------+----------------+\n",
            "|device_modified|device_count|number_of_clicks|\n",
            "+---------------+------------+----------------+\n",
            "|              1|      695722|             419|\n",
            "|              0|      704273|             455|\n",
            "+---------------+------------+----------------+\n",
            "\n"
          ]
        }
      ]
    },
    {
      "cell_type": "markdown",
      "source": [
        "---\n",
        "\n",
        "It is almost the same number of clicks in both the categories.\n",
        "\n",
        "---"
      ],
      "metadata": {
        "id": "bwBP2HX-llzE"
      }
    },
    {
      "cell_type": "markdown",
      "source": [
        "Number of Clicks for each catefory of OS"
      ],
      "metadata": {
        "id": "7hnbXYk_lp33"
      }
    },
    {
      "cell_type": "code",
      "source": [
        "# number of datapoints and clicks for each os\n",
        "top_os_with_clicks = train_data.groupBy(\"modified_os\").agg(F.count(\"modified_os\").alias(\"os_count\"),\n",
        "                                                           F.sum(\"ConversionStatus\").alias(\"number_of_clicks\"))\n",
        "top_os_with_clicks.show()"
      ],
      "metadata": {
        "colab": {
          "base_uri": "https://localhost:8080/"
        },
        "id": "81fg5RO8lrS5",
        "outputId": "76c6c7ab-d515-44bc-a36f-d11a4d0473f6"
      },
      "execution_count": null,
      "outputs": [
        {
          "output_type": "stream",
          "name": "stdout",
          "text": [
            "+-----------+--------+----------------+\n",
            "|modified_os|os_count|number_of_clicks|\n",
            "+-----------+--------+----------------+\n",
            "|     others|   10792|               4|\n",
            "|    Android| 1377744|             868|\n",
            "|        ios|   11459|               2|\n",
            "+-----------+--------+----------------+\n",
            "\n"
          ]
        }
      ]
    },
    {
      "cell_type": "markdown",
      "source": [
        "---\n",
        "\n",
        "We can see that from the above data, that most of the ads clicked from the `Android` os, so we can also reduce the categories to 2 only, `Android` and `Not Android`.\n",
        "\n",
        "---"
      ],
      "metadata": {
        "id": "-8B_XglllstC"
      }
    },
    {
      "cell_type": "markdown",
      "source": [
        "### `Summary of Data Exploration`\n",
        "\n",
        "- Most number of Ads were shown in the country `IN` and highest percentage of Ads were clicked in `RU`.\n",
        "- More than 98 percent of the devices are running on `Android` os."
      ],
      "metadata": {
        "id": "d2N5DI6mluV3"
      }
    },
    {
      "cell_type": "markdown",
      "source": [
        "##7. Missing Value Treatment"
      ],
      "metadata": {
        "id": "h6d4szF1l3SW"
      }
    },
    {
      "cell_type": "markdown",
      "source": [
        "---\n",
        "\n",
        "#### `Fill Null Values`\n",
        "---\n",
        "\n",
        "We will fill the null values with the following values.\n",
        "\n",
        "\n",
        "- **`Country`** with **`IN`**: As most of the Ads were shown in this country.\n",
        "- **`TrafficType`** with **`U`**: `U` means unidentified, we have discussed this in the exploration part.\n",
        "- **`Device`** with **`1`**: `Generic` for 1 as they are unidentified devices.\n",
        "- **`Broswer`** with **`chrome`**: As most of the data points have `chrome` browser.\n",
        "- **`OS`** with **`Android`**: As most of the data points have `Android` OS.\n",
        "- **`total_c_id`** with 0:  As for the new campaigns which comes in future, we have no data.\n",
        "- **`total_p_id`** with 0:  As for the new campaigns which comes in future, we have no data.\n",
        "\n",
        "---"
      ],
      "metadata": {
        "id": "N0y1mrKll4hl"
      }
    },
    {
      "cell_type": "code",
      "source": [
        "# fill null values in the train data\n",
        "train_data = train_data.fillna({\n",
        "            \"Fraud\" : 0,\n",
        "            \"country_modified\": \"IN\",\n",
        "            \"TrafficType\" : \"U\",\n",
        "            \"device_modified\": 1,\n",
        "            \"browser_modified\": \"chrome\",\n",
        "            \"modified_os\": \"Android\",\n",
        "            \"total_c_id\" : 0,\n",
        "            \"total_p_id\" : 0\n",
        "        })"
      ],
      "metadata": {
        "id": "8U-oWAmgl539"
      },
      "execution_count": null,
      "outputs": []
    },
    {
      "cell_type": "code",
      "source": [
        "# fill null values in the test data\n",
        "test_data = test_data.fillna({\n",
        "            \"Fraud\" : 0,\n",
        "            \"country_modified\": \"IN\",\n",
        "            \"TrafficType\" : \"U\",\n",
        "            \"device_modified\": 1,\n",
        "            \"browser_modified\": \"chrome\",\n",
        "            \"modified_os\": \"Android\",\n",
        "            \"total_c_id\" : 0,\n",
        "            \"total_p_id\" : 0\n",
        "        })\n",
        "\n",
        "# fill null values in the test data\n",
        "valid_data = valid_data.fillna({\n",
        "            \"Fraud\" : 0,\n",
        "            \"country_modified\": \"IN\",\n",
        "            \"TrafficType\" : \"A\",\n",
        "            \"device_modified\": 1,\n",
        "            \"browser_modified\": \"chrome\",\n",
        "            \"modified_os\": \"Android\",\n",
        "            \"total_c_id\" : 0,\n",
        "            \"total_p_id\" : 0\n",
        "        })"
      ],
      "metadata": {
        "id": "K_4xa8hIl7I9"
      },
      "execution_count": null,
      "outputs": []
    },
    {
      "cell_type": "markdown",
      "source": [
        "---\n",
        "\n",
        "#### `Encoding Categorical Variables`\n",
        "\n",
        "Categorical values need to be encoded or converted to numeric form before inputting it to an ML model.\n",
        "\n",
        "Two ways of encoding categorical values:\n",
        "\n",
        "**Label Encoding**\n",
        "\n",
        "   > Assigning a unique integer to each of the categorical values\n",
        "   > Done using StringIndexer\n",
        "\n",
        "![](images/module_12_pre_processing_le.png)\n",
        "\n",
        "\n",
        "\n",
        "**One Hot Encoding**\n",
        "\n",
        "   > New columns created for each of the unique value in categorical column. Values assigned 0 or 1 based on the presence of the data.\n",
        "   > Requires features to be label encoded first.\n",
        "   > Done using OneHotEncoderEstimator\n",
        "    \n",
        "![](images/module_12_pre_processing_ohe.png)\n",
        "\n",
        "\n",
        "----\n",
        "\n",
        "We will do the following encoding of the categorical variables in this notebook.\n",
        "\n",
        " - Country (One Hot Encode)\n",
        " - Traffic (One Hot Encode)\n",
        " - Browser (One Hot Encode)\n",
        " - OS      (One Hot Encode)    \n",
        "\n",
        "    \n",
        "    \n",
        "---"
      ],
      "metadata": {
        "id": "sFsEq1zYl8bQ"
      }
    },
    {
      "cell_type": "markdown",
      "source": [
        "##8. Label Encoding"
      ],
      "metadata": {
        "id": "e4U-HM4jmDFC"
      }
    },
    {
      "cell_type": "markdown",
      "source": [
        "#### `Importing the Required Libraries`\n",
        "\n",
        "---"
      ],
      "metadata": {
        "id": "TFPiBntol_dm"
      }
    },
    {
      "cell_type": "code",
      "source": [
        "# importing some more libraries\n",
        "from pyspark.ml.feature import StringIndexer, OneHotEncoder"
      ],
      "metadata": {
        "id": "rxwl95Wsl-Iw"
      },
      "execution_count": null,
      "outputs": []
    },
    {
      "cell_type": "markdown",
      "source": [
        "Creating the StringIndexer Objects"
      ],
      "metadata": {
        "id": "lQLX_dd5mH7S"
      }
    },
    {
      "cell_type": "code",
      "source": [
        "# label encode country\n",
        "SI_Country = StringIndexer(inputCol= \"country_modified\", outputCol= \"country_le\" , handleInvalid=\"skip\")\n",
        "\n",
        "# label encode browser\n",
        "SI_Browser = StringIndexer(inputCol= \"browser_modified\", outputCol= \"browser_le\", handleInvalid= \"skip\")\n",
        "\n",
        "# label encode os\n",
        "SI_OS      = StringIndexer(inputCol= \"modified_os\",      outputCol= \"os_le\", handleInvalid= \"skip\")\n",
        "\n",
        "# label encode traffic\n",
        "SI_Traffic = StringIndexer(inputCol= \"TrafficType\", outputCol= \"traffic_le\", handleInvalid=\"skip\")"
      ],
      "metadata": {
        "id": "sM2nZGc5mJib"
      },
      "execution_count": null,
      "outputs": []
    },
    {
      "cell_type": "markdown",
      "source": [
        "Fit the StringIndexer Objects"
      ],
      "metadata": {
        "id": "yKXFcmmCmL_F"
      }
    },
    {
      "cell_type": "code",
      "source": [
        "# label encode object country\n",
        "SI_Country_Obj = SI_Country.fit(train_data)\n",
        "\n",
        "# label encode object browser\n",
        "SI_Browser_Obj = SI_Browser.fit(train_data)\n",
        "\n",
        "# label encode object os\n",
        "SI_OS_Obj = SI_OS.fit(train_data)\n",
        "\n",
        "# label encode object traffic\n",
        "SI_Traffic_Obj = SI_Traffic.fit(train_data)"
      ],
      "metadata": {
        "id": "NTN8FdCgmNcS"
      },
      "execution_count": null,
      "outputs": []
    },
    {
      "cell_type": "markdown",
      "source": [
        "Transform the StringIndexer Objects"
      ],
      "metadata": {
        "id": "lsf35L-CmPY-"
      }
    },
    {
      "cell_type": "code",
      "source": [
        "# label encode country\n",
        "train_data_encoded = SI_Country_Obj.transform(train_data)\n",
        "\n",
        "# label encode browser\n",
        "train_data_encoded = SI_Browser_Obj.transform(train_data_encoded)\n",
        "\n",
        "# label encode os\n",
        "train_data_encoded = SI_OS_Obj.transform(train_data_encoded)\n",
        "\n",
        "# label encode traffic\n",
        "train_data_encoded = SI_Traffic_Obj.transform(train_data_encoded)"
      ],
      "metadata": {
        "id": "clyYT5eUmQ4G"
      },
      "execution_count": null,
      "outputs": []
    },
    {
      "cell_type": "markdown",
      "source": [
        "Make the Transformation on the test data"
      ],
      "metadata": {
        "id": "yJXZSaWcmTmK"
      }
    },
    {
      "cell_type": "code",
      "source": [
        "# label encode country\n",
        "\n",
        "# validation data\n",
        "valid_data_encoded = SI_Country_Obj.transform(valid_data)\n",
        "# test data\n",
        "test_data_encoded = SI_Country_Obj.transform(test_data)\n",
        "\n",
        "\n",
        "# label encode browser\n",
        "\n",
        "# validation data\n",
        "valid_data_encoded = SI_Browser_Obj.transform(valid_data_encoded)\n",
        "# test data\n",
        "test_data_encoded = SI_Browser_Obj.transform(test_data_encoded)\n",
        "\n",
        "# label encode os\n",
        "\n",
        "# validation data\n",
        "valid_data_encoded = SI_OS_Obj.transform(valid_data_encoded)\n",
        "# test data\n",
        "test_data_encoded = SI_OS_Obj.transform(test_data_encoded)\n",
        "\n",
        "# label encode traffic\n",
        "\n",
        "# validation data\n",
        "valid_data_encoded = SI_Traffic_Obj.transform(valid_data_encoded)\n",
        "test_data_encoded = SI_Traffic_Obj.transform(test_data_encoded)"
      ],
      "metadata": {
        "id": "LpL9QwL-mVu4"
      },
      "execution_count": null,
      "outputs": []
    },
    {
      "cell_type": "code",
      "source": [
        "# let's check the columns in the data\n",
        "train_data_encoded.columns"
      ],
      "metadata": {
        "colab": {
          "base_uri": "https://localhost:8080/"
        },
        "id": "5fzMsQ_BmXEj",
        "outputId": "1acc0b59-21c6-43e5-afe5-69a535efedfa"
      },
      "execution_count": null,
      "outputs": [
        {
          "output_type": "execute_result",
          "data": {
            "text/plain": [
              "['advertiserCampaignId',\n",
              " 'publisherId',\n",
              " 'ID',\n",
              " 'Country',\n",
              " 'Carrier',\n",
              " 'TrafficType',\n",
              " 'ClickDate',\n",
              " 'Device',\n",
              " 'Browser',\n",
              " 'OS',\n",
              " 'ConversionStatus',\n",
              " 'Fraud',\n",
              " 'country_modified',\n",
              " 'device_modified',\n",
              " 'browser_modified',\n",
              " 'modified_os',\n",
              " 'total_p_id',\n",
              " 'total_c_id',\n",
              " 'country_le',\n",
              " 'browser_le',\n",
              " 'os_le',\n",
              " 'traffic_le']"
            ]
          },
          "metadata": {},
          "execution_count": 65
        }
      ]
    },
    {
      "cell_type": "markdown",
      "source": [
        "##9. One-Hot Encoding"
      ],
      "metadata": {
        "id": "LXBOcbkKmZhy"
      }
    },
    {
      "cell_type": "markdown",
      "source": [
        "---\n",
        "\n",
        "Next, we will create the object of the `OneHotEncoderEstimator` and pass the input and output columns list.\n",
        "\n",
        "---"
      ],
      "metadata": {
        "id": "DAL1xIgZmbPh"
      }
    },
    {
      "cell_type": "code",
      "source": [
        "OHE_train = OneHotEncoder(inputCols=[\"country_le\",\n",
        "                                              \"browser_le\",\n",
        "                                              \"os_le\",\n",
        "                                              \"traffic_le\"],\n",
        "                                  outputCols=[\"country_ohe\",\n",
        "                                              \"browser_ohe\",\n",
        "                                              \"os_ohe\",\n",
        "                                              \"traffic_ohe\"])"
      ],
      "metadata": {
        "id": "vYhSVlqsmcoa"
      },
      "execution_count": null,
      "outputs": []
    },
    {
      "cell_type": "markdown",
      "source": [
        "---\n",
        "\n",
        "Fit & Transform the data.\n",
        "\n",
        "---"
      ],
      "metadata": {
        "id": "R9WgyV6HmeMD"
      }
    },
    {
      "cell_type": "code",
      "source": [
        "# OHE object\n",
        "OHE_Obj = OHE_train.fit(train_data_encoded)"
      ],
      "metadata": {
        "id": "0Xx54kekmflZ"
      },
      "execution_count": null,
      "outputs": []
    },
    {
      "cell_type": "code",
      "source": [
        "# Transform train data\n",
        "train_data_encoded = OHE_Obj.transform(train_data_encoded)"
      ],
      "metadata": {
        "id": "7QobNBPomgyE"
      },
      "execution_count": null,
      "outputs": []
    },
    {
      "cell_type": "code",
      "source": [
        "# view the one hot encoded data\n",
        "train_data_encoded.select(\"ID\",\n",
        "                          \"country_modified\",\n",
        "                          \"country_ohe\",\n",
        "                          \"browser_modified\",\n",
        "                          \"browser_ohe\",\n",
        "                          \"modified_os\",\n",
        "                          \"os_ohe\").show()"
      ],
      "metadata": {
        "colab": {
          "base_uri": "https://localhost:8080/"
        },
        "id": "vK3LM6wgmh-O",
        "outputId": "9ba9eab5-8429-48fa-84fe-8b51ac83edac"
      },
      "execution_count": null,
      "outputs": [
        {
          "output_type": "stream",
          "name": "stdout",
          "text": [
            "+-------+----------------+--------------+----------------+-------------+-----------+-------------+\n",
            "|     ID|country_modified|   country_ohe|browser_modified|  browser_ohe|modified_os|       os_ohe|\n",
            "+-------+----------------+--------------+----------------+-------------+-----------+-------------+\n",
            "| 831606|              IN|(20,[0],[1.0])|          chrome|(3,[0],[1.0])|    Android|(2,[0],[1.0])|\n",
            "|1684960|              IN|(20,[0],[1.0])|          chrome|(3,[0],[1.0])|    Android|(2,[0],[1.0])|\n",
            "|1707464|              IN|(20,[0],[1.0])|          chrome|(3,[0],[1.0])|    Android|(2,[0],[1.0])|\n",
            "| 301735|              IN|(20,[0],[1.0])|          chrome|(3,[0],[1.0])|    Android|(2,[0],[1.0])|\n",
            "|1704995|              IN|(20,[0],[1.0])|          chrome|(3,[0],[1.0])|    Android|(2,[0],[1.0])|\n",
            "|1642510|              IN|(20,[0],[1.0])|          chrome|(3,[0],[1.0])|    Android|(2,[0],[1.0])|\n",
            "|1613598|              IN|(20,[0],[1.0])|          chrome|(3,[0],[1.0])|    Android|(2,[0],[1.0])|\n",
            "| 950030|              IN|(20,[0],[1.0])|          chrome|(3,[0],[1.0])|    Android|(2,[0],[1.0])|\n",
            "|1632656|              IN|(20,[0],[1.0])|          chrome|(3,[0],[1.0])|    Android|(2,[0],[1.0])|\n",
            "|1816037|              IN|(20,[0],[1.0])|          chrome|(3,[0],[1.0])|    Android|(2,[0],[1.0])|\n",
            "|1473379|              IN|(20,[0],[1.0])|          chrome|(3,[0],[1.0])|    Android|(2,[0],[1.0])|\n",
            "| 820189|              IN|(20,[0],[1.0])|          chrome|(3,[0],[1.0])|    Android|(2,[0],[1.0])|\n",
            "|1648418|              IN|(20,[0],[1.0])|          chrome|(3,[0],[1.0])|    Android|(2,[0],[1.0])|\n",
            "|1676459|              IN|(20,[0],[1.0])|          chrome|(3,[0],[1.0])|    Android|(2,[0],[1.0])|\n",
            "|1609521|              IN|(20,[0],[1.0])|          chrome|(3,[0],[1.0])|    Android|(2,[0],[1.0])|\n",
            "|1971467|              IN|(20,[0],[1.0])|          chrome|(3,[0],[1.0])|    Android|(2,[0],[1.0])|\n",
            "|1246923|              IN|(20,[0],[1.0])|          chrome|(3,[0],[1.0])|    Android|(2,[0],[1.0])|\n",
            "|1867772|              IN|(20,[0],[1.0])|          chrome|(3,[0],[1.0])|    Android|(2,[0],[1.0])|\n",
            "|1806288|              IN|(20,[0],[1.0])|          chrome|(3,[0],[1.0])|    Android|(2,[0],[1.0])|\n",
            "|1742383|              IN|(20,[0],[1.0])|          chrome|(3,[0],[1.0])|    Android|(2,[0],[1.0])|\n",
            "+-------+----------------+--------------+----------------+-------------+-----------+-------------+\n",
            "only showing top 20 rows\n",
            "\n"
          ]
        }
      ]
    },
    {
      "cell_type": "markdown",
      "source": [
        "Make the transformation on test data"
      ],
      "metadata": {
        "id": "jZuSSG-bmkkq"
      }
    },
    {
      "cell_type": "code",
      "source": [
        "# transform the data\n",
        "\n",
        "# validation data\n",
        "valid_data_encoded = OHE_Obj.transform(valid_data_encoded)\n",
        "# test data\n",
        "test_data_encoded = OHE_Obj.transform(test_data_encoded)"
      ],
      "metadata": {
        "id": "siiwyZwomlzL"
      },
      "execution_count": null,
      "outputs": []
    },
    {
      "cell_type": "markdown",
      "source": [
        "##10. Model Building"
      ],
      "metadata": {
        "id": "ya9aoXHHmnml"
      }
    },
    {
      "cell_type": "markdown",
      "source": [
        "---\n",
        "\n",
        "\n",
        "## `MODEL BUILDING`\n",
        "\n",
        "Now, we have prepared the dataset and it is ready to be trained with Machine Learning models. This is a `Classification Problem`, so we will train the data on the following alogrithms.\n",
        "\n",
        " * **Logistic Regression**\n",
        " * **Decision Tree Classification**\n",
        "\n",
        "\n",
        "\n",
        "---"
      ],
      "metadata": {
        "id": "5UkBsBYzmpF7"
      }
    },
    {
      "cell_type": "markdown",
      "source": [
        "---\n",
        "\n",
        "#### `VECTOR ASSEMBLER`\n",
        "\n",
        "- Before passing the data into the ML model, we need to convert the required features into a Vector. We can do this using a `VectorAssembler`.\n",
        "---"
      ],
      "metadata": {
        "id": "C9Meio3DmqbQ"
      }
    },
    {
      "cell_type": "code",
      "source": [
        "## columns in the dataset\n",
        "train_data_encoded.columns"
      ],
      "metadata": {
        "colab": {
          "base_uri": "https://localhost:8080/"
        },
        "id": "Kzcf-hZlmrjL",
        "outputId": "3a38c1b1-d33b-41a9-dab4-c593f7a72279"
      },
      "execution_count": null,
      "outputs": [
        {
          "output_type": "execute_result",
          "data": {
            "text/plain": [
              "['advertiserCampaignId',\n",
              " 'publisherId',\n",
              " 'ID',\n",
              " 'Country',\n",
              " 'Carrier',\n",
              " 'TrafficType',\n",
              " 'ClickDate',\n",
              " 'Device',\n",
              " 'Browser',\n",
              " 'OS',\n",
              " 'ConversionStatus',\n",
              " 'Fraud',\n",
              " 'country_modified',\n",
              " 'device_modified',\n",
              " 'browser_modified',\n",
              " 'modified_os',\n",
              " 'total_p_id',\n",
              " 'total_c_id',\n",
              " 'country_le',\n",
              " 'browser_le',\n",
              " 'os_le',\n",
              " 'traffic_le',\n",
              " 'country_ohe',\n",
              " 'browser_ohe',\n",
              " 'os_ohe',\n",
              " 'traffic_ohe']"
            ]
          },
          "metadata": {},
          "execution_count": 71
        }
      ]
    },
    {
      "cell_type": "markdown",
      "source": [
        "---\n",
        "\n",
        "#### `Define the VectorAssembler Object`\n",
        "\n",
        "---"
      ],
      "metadata": {
        "id": "BnF-VWInmulW"
      }
    },
    {
      "cell_type": "markdown",
      "source": [
        "----\n",
        "\n",
        "So, now we will select the features and create a vector using `VectorAssembler`\n",
        "\n",
        " * traffic (One Hot Encoded)\n",
        " * Fraud   (As it is)\n",
        " * total_p_id (Feature Created: Frequency per Publisher id)\n",
        " * total_c_id (Feature Created: Frequency per Campaign Id)\n",
        " * country_ohe (One Hot Encoded)\n",
        " * device_modified (Label Encoded)\n",
        " * browser_ohe (One Hot Encoded)\n",
        " * os_ohe (One Hot Encoded)\n",
        "\n",
        "----"
      ],
      "metadata": {
        "id": "8NtvkPfLmwjr"
      }
    },
    {
      "cell_type": "code",
      "source": [
        "# import the library\n",
        "from pyspark.ml.feature import VectorAssembler\n",
        "\n",
        "# create feature vector\n",
        "feature_vector = VectorAssembler(inputCols= ['traffic_ohe',\n",
        "                                             'Fraud',\n",
        "                                             'total_p_id',\n",
        "                                             'total_c_id',\n",
        "                                             'country_ohe',\n",
        "                                             'device_modified',\n",
        "                                             'browser_ohe',\n",
        "                                             'os_ohe'],\n",
        "                                outputCol= 'feature_vector')"
      ],
      "metadata": {
        "id": "VnqXQEMjmyNh"
      },
      "execution_count": null,
      "outputs": []
    },
    {
      "cell_type": "markdown",
      "source": [
        "TRANSFORM THE FEATURE VECTOR"
      ],
      "metadata": {
        "id": "pHXxsmgkm0WG"
      }
    },
    {
      "cell_type": "code",
      "source": [
        "# transform the feature vector\n",
        "train_data_encoded = feature_vector.transform(train_data_encoded)"
      ],
      "metadata": {
        "id": "QitjxTbYm1eH"
      },
      "execution_count": null,
      "outputs": []
    },
    {
      "cell_type": "code",
      "source": [
        "# view the feature vector\n",
        "train_data_encoded.select(\"feature_vector\").show(10)"
      ],
      "metadata": {
        "colab": {
          "base_uri": "https://localhost:8080/"
        },
        "id": "FUFIfQJbm2yT",
        "outputId": "c9409e79-8d60-4ebd-895a-ddb2a8ac5c83"
      },
      "execution_count": null,
      "outputs": [
        {
          "output_type": "stream",
          "name": "stdout",
          "text": [
            "+--------------------+\n",
            "|      feature_vector|\n",
            "+--------------------+\n",
            "|(31,[0,3,4,5,25,2...|\n",
            "|(31,[0,3,4,5,26,2...|\n",
            "|(31,[0,3,4,5,25,2...|\n",
            "|(31,[0,3,4,5,25,2...|\n",
            "|(31,[0,3,4,5,26,2...|\n",
            "|(31,[0,3,4,5,25,2...|\n",
            "|(31,[0,3,4,5,26,2...|\n",
            "|(31,[0,3,4,5,26,2...|\n",
            "|(31,[0,3,4,5,26,2...|\n",
            "|(31,[0,3,4,5,26,2...|\n",
            "+--------------------+\n",
            "only showing top 10 rows\n",
            "\n"
          ]
        }
      ]
    },
    {
      "cell_type": "code",
      "source": [
        "# we can see that the data type of the `feature_vector` is vector\n",
        "train_data_encoded.printSchema()"
      ],
      "metadata": {
        "colab": {
          "base_uri": "https://localhost:8080/"
        },
        "id": "2Nw-cTKFm4VA",
        "outputId": "778f64e0-8b3e-4fa6-8d3f-c7279368f63b"
      },
      "execution_count": null,
      "outputs": [
        {
          "output_type": "stream",
          "name": "stdout",
          "text": [
            "root\n",
            " |-- advertiserCampaignId: double (nullable = true)\n",
            " |-- publisherId: string (nullable = true)\n",
            " |-- ID: integer (nullable = true)\n",
            " |-- Country: string (nullable = true)\n",
            " |-- Carrier: double (nullable = true)\n",
            " |-- TrafficType: string (nullable = false)\n",
            " |-- ClickDate: timestamp (nullable = true)\n",
            " |-- Device: string (nullable = true)\n",
            " |-- Browser: string (nullable = true)\n",
            " |-- OS: string (nullable = true)\n",
            " |-- ConversionStatus: integer (nullable = true)\n",
            " |-- Fraud: double (nullable = false)\n",
            " |-- country_modified: string (nullable = false)\n",
            " |-- device_modified: integer (nullable = false)\n",
            " |-- browser_modified: string (nullable = false)\n",
            " |-- modified_os: string (nullable = false)\n",
            " |-- total_p_id: long (nullable = false)\n",
            " |-- total_c_id: long (nullable = false)\n",
            " |-- country_le: double (nullable = false)\n",
            " |-- browser_le: double (nullable = false)\n",
            " |-- os_le: double (nullable = false)\n",
            " |-- traffic_le: double (nullable = false)\n",
            " |-- country_ohe: vector (nullable = true)\n",
            " |-- browser_ohe: vector (nullable = true)\n",
            " |-- os_ohe: vector (nullable = true)\n",
            " |-- traffic_ohe: vector (nullable = true)\n",
            " |-- feature_vector: vector (nullable = true)\n",
            "\n"
          ]
        }
      ]
    },
    {
      "cell_type": "markdown",
      "source": [
        "Make the transformation on test data."
      ],
      "metadata": {
        "id": "T4XOv7Vom7jv"
      }
    },
    {
      "cell_type": "code",
      "source": [
        "# transform the feature vector\n",
        "\n",
        "# validation data\n",
        "valid_data_encoded = feature_vector.transform(valid_data_encoded)\n",
        "# test data\n",
        "test_data_encoded = feature_vector.transform(test_data_encoded)"
      ],
      "metadata": {
        "id": "Zhsx2YPom9yr"
      },
      "execution_count": null,
      "outputs": []
    },
    {
      "cell_type": "markdown",
      "source": [
        "---\n",
        "\n",
        "#### `LOGISTIC REGRESSION`\n",
        "\n",
        "First, we will train the model with the Logistic Regression and see the `AOC-ROC`.\n",
        "\n",
        "For that let's import some more libraries.\n",
        "\n",
        "----"
      ],
      "metadata": {
        "id": "t3dgCnVNnAhp"
      }
    },
    {
      "cell_type": "code",
      "source": [
        "# importing the libraries\n",
        "from pyspark.ml import classification\n",
        "from pyspark.ml.evaluation import BinaryClassificationEvaluator"
      ],
      "metadata": {
        "id": "-FcB-mw5nCw8"
      },
      "execution_count": null,
      "outputs": []
    },
    {
      "cell_type": "markdown",
      "source": [
        "---\n",
        "\n",
        "First we will create the Logistic Regression and pass the `feature vector` and the label column which is `ConversionStatus`\n",
        "\n",
        "---"
      ],
      "metadata": {
        "id": "6lvkGx-ynEoA"
      }
    },
    {
      "cell_type": "code",
      "source": [
        "model_LR = classification.LogisticRegression(featuresCol='feature_vector', labelCol=\"ConversionStatus\")"
      ],
      "metadata": {
        "id": "IidP7HaenGQD"
      },
      "execution_count": null,
      "outputs": []
    },
    {
      "cell_type": "markdown",
      "source": [
        "---\n",
        "\n",
        "\n",
        "Fit the model\n",
        "\n",
        "---"
      ],
      "metadata": {
        "id": "Sx_ajvHDnHsP"
      }
    },
    {
      "cell_type": "code",
      "source": [
        "model_LR = model_LR.fit(train_data_encoded)"
      ],
      "metadata": {
        "id": "FmZVOdwrnI_P"
      },
      "execution_count": null,
      "outputs": []
    },
    {
      "cell_type": "markdown",
      "source": [
        "---\n",
        "\n",
        "Next, we will use the `BinaryClassificationEvaluator` to calculate the `AUC-ROC score` and for that we have to pass the `labelCol: ConversionStatus` and the `metricName: areaUnderROC`\n",
        "\n",
        "---"
      ],
      "metadata": {
        "id": "2Oqq-oNZnKQC"
      }
    },
    {
      "cell_type": "code",
      "source": [
        "# Evaluating training data\n",
        "evaluator = BinaryClassificationEvaluator(labelCol=\"ConversionStatus\", metricName=\"areaUnderROC\")\n",
        "evaluator.evaluate(model_LR.transform(train_data_encoded))"
      ],
      "metadata": {
        "colab": {
          "base_uri": "https://localhost:8080/"
        },
        "id": "9Nvk-yQHnLuV",
        "outputId": "1866abfd-94a2-409e-ea0a-5beca51d31d5"
      },
      "execution_count": null,
      "outputs": [
        {
          "output_type": "execute_result",
          "data": {
            "text/plain": [
              "0.7381816534018467"
            ]
          },
          "metadata": {},
          "execution_count": 80
        }
      ]
    },
    {
      "cell_type": "markdown",
      "source": [
        "---\n",
        "\n",
        "So, we got the`ROC`: 0.738\n",
        "\n",
        "\n",
        "\n",
        "\n",
        "---"
      ],
      "metadata": {
        "id": "jQL-ms-4nfcN"
      }
    },
    {
      "cell_type": "code",
      "source": [
        "# Evaluating validation data\n",
        "evaluator.evaluate(model_LR.transform(valid_data_encoded))"
      ],
      "metadata": {
        "colab": {
          "base_uri": "https://localhost:8080/"
        },
        "id": "5UWwWSPenNnT",
        "outputId": "eb58c2af-69ec-4921-c563-b681af4c4237"
      },
      "execution_count": null,
      "outputs": [
        {
          "output_type": "execute_result",
          "data": {
            "text/plain": [
              "0.6930997051303226"
            ]
          },
          "metadata": {},
          "execution_count": 81
        }
      ]
    },
    {
      "cell_type": "markdown",
      "source": [
        "---\n",
        "\n",
        "#### `DECISION TREE CLASSIFIER`\n",
        "\n",
        "\n",
        "Next, we will train the decision tree classifier model and do the same steps as we did with the logistic regression.\n",
        "\n",
        "---"
      ],
      "metadata": {
        "id": "CYyIcWAPnRmi"
      }
    },
    {
      "cell_type": "code",
      "source": [
        "# creating object of DecisionTreeClassifier\n",
        "model_DTR = classification.DecisionTreeClassifier(featuresCol= \"feature_vector\",  labelCol=\"ConversionStatus\")"
      ],
      "metadata": {
        "id": "DxmZSFScnTMF"
      },
      "execution_count": null,
      "outputs": []
    },
    {
      "cell_type": "code",
      "source": [
        "# fitting the model\n",
        "model_DTR = model_DTR.fit(train_data_encoded)"
      ],
      "metadata": {
        "id": "6J_yRmr2nUPr"
      },
      "execution_count": null,
      "outputs": []
    },
    {
      "cell_type": "code",
      "source": [
        "# evaluating the model\n",
        "evaluator.evaluate(model_DTR.transform(train_data_encoded))"
      ],
      "metadata": {
        "colab": {
          "base_uri": "https://localhost:8080/"
        },
        "id": "YuL_0P_5nVfw",
        "outputId": "b03b0636-d99c-40f7-c298-f0c80bb084f2"
      },
      "execution_count": null,
      "outputs": [
        {
          "output_type": "execute_result",
          "data": {
            "text/plain": [
              "0.5"
            ]
          },
          "metadata": {},
          "execution_count": 84
        }
      ]
    },
    {
      "cell_type": "markdown",
      "source": [
        "So, the `ROC: 0.5` which means that Logistic Regression was better than Decision Tree.\n",
        "\n",
        "\n",
        "---"
      ],
      "metadata": {
        "id": "iyEn9HNoq59J"
      }
    },
    {
      "cell_type": "code",
      "source": [
        "# Evaluate on validation data\n",
        "evaluator.evaluate(model_DTR.transform(valid_data_encoded))"
      ],
      "metadata": {
        "colab": {
          "base_uri": "https://localhost:8080/"
        },
        "id": "lNabOHbTq9V7",
        "outputId": "4ae619b6-8436-4b63-ab85-4fe27fe7c99e"
      },
      "execution_count": null,
      "outputs": [
        {
          "output_type": "execute_result",
          "data": {
            "text/plain": [
              "0.5"
            ]
          },
          "metadata": {},
          "execution_count": 85
        }
      ]
    },
    {
      "cell_type": "markdown",
      "source": [
        "##11. Model Tuning - Cross Validation, Grid-Search"
      ],
      "metadata": {
        "id": "pgsCyEr2rJxE"
      }
    },
    {
      "cell_type": "markdown",
      "source": [
        "---\n",
        "\n",
        "# `Model Tuning`\n",
        "\n",
        "* **Cross-Validation**\n",
        "* **Grid-Search**\n",
        "\n",
        "---"
      ],
      "metadata": {
        "id": "ePcDrCnlrLUN"
      }
    },
    {
      "cell_type": "markdown",
      "source": [
        "---\n",
        "\n",
        "So far, we saw the `Logistic Regression` and `Decision Tree` algorithms. But we were running them using the default parameters only. So, we will tune the parameters of our model and see if it gets any better.\n",
        "\n",
        "First we, will do the cross validation\n",
        "\n",
        "---\n",
        "\n",
        "## `CROSS VALIDATION`\n",
        "\n",
        "\n",
        "\n",
        "\n",
        "Let's see how to do the cross validation.\n",
        "\n",
        "![](images/module_12_tuning_cross_val.png)\n",
        "\n",
        "\n",
        "---"
      ],
      "metadata": {
        "id": "ArDR4ss_rNfd"
      }
    },
    {
      "cell_type": "code",
      "source": [
        "# importing the CrossValidator and ParamGridBuilder\n",
        "from pyspark.ml.tuning import CrossValidator, ParamGridBuilder"
      ],
      "metadata": {
        "id": "C0e4NHr8rQVk"
      },
      "execution_count": null,
      "outputs": []
    },
    {
      "cell_type": "code",
      "source": [
        "# creating the ParamGridBuilder\n",
        "params = ParamGridBuilder().build()"
      ],
      "metadata": {
        "id": "O5QC3AnsrRgO"
      },
      "execution_count": null,
      "outputs": []
    },
    {
      "cell_type": "code",
      "source": [
        "# creating the object of the Logistic Regression Model\n",
        "model_LR_CV = classification.LogisticRegression(featuresCol= \"feature_vector\",  labelCol=\"ConversionStatus\")"
      ],
      "metadata": {
        "id": "qe14KGEOrSuF"
      },
      "execution_count": null,
      "outputs": []
    },
    {
      "cell_type": "code",
      "source": [
        "# creating object of the cross validation model with numFolds = 3\n",
        "cv = CrossValidator(estimator=model_LR_CV,\n",
        "                    estimatorParamMaps=params,\n",
        "                    evaluator=evaluator,\n",
        "                    numFolds=3,\n",
        "                    seed=27)"
      ],
      "metadata": {
        "id": "4k9joTHmrT2P"
      },
      "execution_count": null,
      "outputs": []
    },
    {
      "cell_type": "markdown",
      "source": [
        "---\n",
        "\n",
        "#### `FIT THE MODEL`\n",
        "\n",
        "---"
      ],
      "metadata": {
        "id": "I8SgIqmtrVXm"
      }
    },
    {
      "cell_type": "code",
      "source": [
        "## fitting the model\n",
        "cv_model = cv.fit(train_data_encoded)"
      ],
      "metadata": {
        "id": "7JClm81xrby6"
      },
      "execution_count": null,
      "outputs": []
    },
    {
      "cell_type": "code",
      "source": [
        "# evaluating the model\n",
        "evaluator = BinaryClassificationEvaluator(labelCol=\"ConversionStatus\",metricName=\"areaUnderROC\")\n",
        "evaluator.evaluate(cv_model.transform(train_data_encoded))"
      ],
      "metadata": {
        "colab": {
          "base_uri": "https://localhost:8080/"
        },
        "id": "cn7meBgnrdJR",
        "outputId": "83eb93f8-0890-4072-c8f6-d7f626a94e9c"
      },
      "execution_count": null,
      "outputs": [
        {
          "output_type": "execute_result",
          "data": {
            "text/plain": [
              "0.738229750370058"
            ]
          },
          "metadata": {},
          "execution_count": 91
        }
      ]
    },
    {
      "cell_type": "code",
      "source": [
        "# evaluating model on validation data\n",
        "evaluator.evaluate(cv_model.transform(valid_data_encoded))"
      ],
      "metadata": {
        "colab": {
          "base_uri": "https://localhost:8080/"
        },
        "id": "RQg4xTFzreZQ",
        "outputId": "f272d015-6d7f-4767-bc6f-6847d89808f9"
      },
      "execution_count": null,
      "outputs": [
        {
          "output_type": "execute_result",
          "data": {
            "text/plain": [
              "0.6930997051303226"
            ]
          },
          "metadata": {},
          "execution_count": 92
        }
      ]
    },
    {
      "cell_type": "markdown",
      "source": [
        "---\n",
        "\n",
        "\n",
        "## `GRID SEARCH`\n",
        "\n",
        "Next, we will try the Grid Search where it will apply different combinations of parameter to give you the best model.\n",
        "\n",
        "---\n",
        "\n",
        "![](images/module_12_tuning_grid_search.png)\n",
        "\n",
        "---"
      ],
      "metadata": {
        "id": "vE4pVaS4rjBe"
      }
    },
    {
      "cell_type": "code",
      "source": [
        "# creating parameter builder\n",
        "\n",
        "updated_params = ParamGridBuilder() \\\n",
        "                .addGrid(model_LR_CV.regParam, [0.01, 0.005, 0.0001]) \\\n",
        "                .addGrid(model_LR_CV.elasticNetParam, [0.1, 0.001]) \\\n",
        "                .build()"
      ],
      "metadata": {
        "id": "rV5tY-4RrlJH"
      },
      "execution_count": null,
      "outputs": []
    },
    {
      "cell_type": "code",
      "source": [
        "# creating object of the Cross Calidator with 3 folds\n",
        "cv = CrossValidator(estimator=model_LR_CV,\n",
        "                    estimatorParamMaps=updated_params,\n",
        "                    evaluator=evaluator,\n",
        "                    numFolds=3,\n",
        "                    seed=27)"
      ],
      "metadata": {
        "id": "m3m8bBQqrn4-"
      },
      "execution_count": null,
      "outputs": []
    },
    {
      "cell_type": "code",
      "source": [
        "# fitting the model\n",
        "grid_model = cv.fit(train_data_encoded)"
      ],
      "metadata": {
        "id": "orJ2GF-DrqZz"
      },
      "execution_count": null,
      "outputs": []
    },
    {
      "cell_type": "code",
      "source": [
        "# evaluating the model\n",
        "evaluator = BinaryClassificationEvaluator(labelCol=\"ConversionStatus\",metricName=\"areaUnderROC\")\n",
        "evaluator.evaluate(grid_model.transform(train_data_encoded))"
      ],
      "metadata": {
        "colab": {
          "base_uri": "https://localhost:8080/"
        },
        "id": "O4gA6bLkrsYL",
        "outputId": "c32632d4-f903-49b4-a186-03ade1f149cb"
      },
      "execution_count": null,
      "outputs": [
        {
          "output_type": "execute_result",
          "data": {
            "text/plain": [
              "0.7358319250024971"
            ]
          },
          "metadata": {},
          "execution_count": 96
        }
      ]
    },
    {
      "cell_type": "code",
      "source": [
        "# evaluating model on validation data\n",
        "evaluator.evaluate(grid_model.transform(valid_data_encoded))"
      ],
      "metadata": {
        "colab": {
          "base_uri": "https://localhost:8080/"
        },
        "id": "lgHvUI27rtkK",
        "outputId": "24a243a0-4234-4d59-c9d0-ac5680301e8c"
      },
      "execution_count": null,
      "outputs": [
        {
          "output_type": "execute_result",
          "data": {
            "text/plain": [
              "0.6923254322898522"
            ]
          },
          "metadata": {},
          "execution_count": 97
        }
      ]
    },
    {
      "cell_type": "markdown",
      "source": [
        "---\n",
        "\n",
        "Getting the best model parameters.\n",
        "\n",
        "---"
      ],
      "metadata": {
        "id": "X2ow9adxrw7Y"
      }
    },
    {
      "cell_type": "code",
      "source": [
        "# extract the best model parameters dictionary\n",
        "param_dict = grid_model.bestModel.extractParamMap()"
      ],
      "metadata": {
        "id": "1Mc2HDkJry9i"
      },
      "execution_count": null,
      "outputs": []
    },
    {
      "cell_type": "code",
      "source": [
        "param_dict"
      ],
      "metadata": {
        "colab": {
          "base_uri": "https://localhost:8080/"
        },
        "id": "qSONEjeqr0UW",
        "outputId": "77d0cf4a-4d15-4403-a25b-353d82b44215"
      },
      "execution_count": null,
      "outputs": [
        {
          "output_type": "execute_result",
          "data": {
            "text/plain": [
              "{Param(parent='LogisticRegression_03f51e14ee28', name='aggregationDepth', doc='suggested depth for treeAggregate (>= 2).'): 2,\n",
              " Param(parent='LogisticRegression_03f51e14ee28', name='elasticNetParam', doc='the ElasticNet mixing parameter, in range [0, 1]. For alpha = 0, the penalty is an L2 penalty. For alpha = 1, it is an L1 penalty.'): 0.1,\n",
              " Param(parent='LogisticRegression_03f51e14ee28', name='family', doc='The name of family which is a description of the label distribution to be used in the model. Supported options: auto, binomial, multinomial'): 'auto',\n",
              " Param(parent='LogisticRegression_03f51e14ee28', name='featuresCol', doc='features column name.'): 'feature_vector',\n",
              " Param(parent='LogisticRegression_03f51e14ee28', name='fitIntercept', doc='whether to fit an intercept term.'): True,\n",
              " Param(parent='LogisticRegression_03f51e14ee28', name='labelCol', doc='label column name.'): 'ConversionStatus',\n",
              " Param(parent='LogisticRegression_03f51e14ee28', name='maxBlockSizeInMB', doc='maximum memory in MB for stacking input data into blocks. Data is stacked within partitions. If more than remaining data size in a partition then it is adjusted to the data size. Default 0.0 represents choosing optimal value, depends on specific algorithm. Must be >= 0.'): 0.0,\n",
              " Param(parent='LogisticRegression_03f51e14ee28', name='maxIter', doc='max number of iterations (>= 0).'): 100,\n",
              " Param(parent='LogisticRegression_03f51e14ee28', name='predictionCol', doc='prediction column name.'): 'prediction',\n",
              " Param(parent='LogisticRegression_03f51e14ee28', name='probabilityCol', doc='Column name for predicted class conditional probabilities. Note: Not all models output well-calibrated probability estimates! These probabilities should be treated as confidences, not precise probabilities.'): 'probability',\n",
              " Param(parent='LogisticRegression_03f51e14ee28', name='rawPredictionCol', doc='raw prediction (a.k.a. confidence) column name.'): 'rawPrediction',\n",
              " Param(parent='LogisticRegression_03f51e14ee28', name='regParam', doc='regularization parameter (>= 0).'): 0.0001,\n",
              " Param(parent='LogisticRegression_03f51e14ee28', name='standardization', doc='whether to standardize the training features before fitting the model.'): True,\n",
              " Param(parent='LogisticRegression_03f51e14ee28', name='threshold', doc='Threshold in binary classification prediction, in range [0, 1]. If threshold and thresholds are both set, they must match.e.g. if threshold is p, then thresholds must be equal to [1-p, p].'): 0.5,\n",
              " Param(parent='LogisticRegression_03f51e14ee28', name='tol', doc='the convergence tolerance for iterative algorithms (>= 0).'): 1e-06}"
            ]
          },
          "metadata": {},
          "execution_count": 99
        }
      ]
    },
    {
      "cell_type": "code",
      "source": [
        "# created a filtered dictionary\n",
        "final_dict = {}\n",
        "for k, v in param_dict.items():\n",
        "    final_dict[k.name] = v"
      ],
      "metadata": {
        "id": "WAHjxFNAr1V-"
      },
      "execution_count": null,
      "outputs": []
    },
    {
      "cell_type": "code",
      "source": [
        "# getting the best elastic net parameter\n",
        "final_dict[\"elasticNetParam\"]"
      ],
      "metadata": {
        "colab": {
          "base_uri": "https://localhost:8080/"
        },
        "id": "51rHFzGAr2g6",
        "outputId": "65d26965-8fba-43b0-ef9c-96b8502443af"
      },
      "execution_count": null,
      "outputs": [
        {
          "output_type": "execute_result",
          "data": {
            "text/plain": [
              "0.1"
            ]
          },
          "metadata": {},
          "execution_count": 101
        }
      ]
    },
    {
      "cell_type": "code",
      "source": [
        "# getting the best regularization parameter\n",
        "final_dict[\"regParam\"]"
      ],
      "metadata": {
        "colab": {
          "base_uri": "https://localhost:8080/"
        },
        "id": "W98zcHtJr4kB",
        "outputId": "7ddaf0bf-c6f9-4572-bd33-724bb0c6846f"
      },
      "execution_count": null,
      "outputs": [
        {
          "output_type": "execute_result",
          "data": {
            "text/plain": [
              "0.0001"
            ]
          },
          "metadata": {},
          "execution_count": 102
        }
      ]
    },
    {
      "cell_type": "markdown",
      "source": [
        "##12. Spark ML Pipeline"
      ],
      "metadata": {
        "id": "LLOxCtxrr7Mp"
      }
    },
    {
      "cell_type": "markdown",
      "source": [
        "Let's load the required libraries and the dataset for our SparkML Pipeline"
      ],
      "metadata": {
        "id": "_d8qCAiksVbd"
      }
    },
    {
      "cell_type": "code",
      "source": [
        "## Importing the Required Libraries\n",
        "from pyspark.ml import Pipeline\n",
        "from pyspark.ml.feature import OneHotEncoder, StringIndexer, VectorAssembler\n",
        "from pyspark.ml import Transformer\n",
        "from pyspark.ml.param.shared import HasInputCol, HasOutputCol, Param\n",
        "from pyspark.ml import classification"
      ],
      "metadata": {
        "id": "ywQt5tFQsoET"
      },
      "execution_count": null,
      "outputs": []
    },
    {
      "cell_type": "code",
      "source": [
        "train_data_pipeline = spark.read.csv(\"train.csv\", inferSchema=True, header=True)\n",
        "valid_data_pipeline =  spark.read.csv(\"valid.csv\", inferSchema=True, header=True)\n",
        "test_data_pipeline = spark.read.csv(\"test.csv\", inferSchema=True, header=True)"
      ],
      "metadata": {
        "id": "h-cY2l0Jstsg"
      },
      "execution_count": null,
      "outputs": []
    },
    {
      "cell_type": "code",
      "source": [
        "train_data_pipeline = train_data_pipeline.withColumn(\"ConversionStatus\", F.col(\"ConversionStatus\").cast(tp.IntegerType()))"
      ],
      "metadata": {
        "id": "1_lmSM61svmT"
      },
      "execution_count": null,
      "outputs": []
    },
    {
      "cell_type": "markdown",
      "source": [
        "---\n",
        "### `Define the stages of the Pipeline`\n",
        "\n",
        "  * **STAGE 1**: [Transformer] Fill null values with in each column\n",
        "  * **STAGE 2**: [Transformer] Reduce Category\n",
        "  * **STAGE 3**: [Estimator] Label Encode: Traffic\n",
        "  * **STAGE 4**: [Estimator] Label Encode: Country\n",
        "  * **STAGE 5**: [Estimator] Label Encode: Browser\n",
        "  * **STAGE 6**: [Estimator] Label Encode: OS\n",
        "  * **STAGE 7**: [Estimator] OHE: Country, Browser, OS\n",
        "  * **STAGE 8**: [Transformer] Create Feature: Total Click per Publisher ID, Total Click per Campaign ID\n",
        "  * **STAGE 9**: Transformer] Create Vector [ Traffic (LE), Fraud, Average_Click per Puplisher ID, Average Click per Campaign ID, Country (OHE), Browser (OHE), Device (OHE), OS (OHE)]\n",
        "  * **STAGE 10**: [Estimator] Predict Labels Using the Logistic Regression"
      ],
      "metadata": {
        "id": "TFTnQ05Fs0zM"
      }
    },
    {
      "cell_type": "markdown",
      "source": [
        "---\n",
        "#### **`Define Custom Transformers`**\n",
        "\n",
        "* Custom transformer to fill null values\n",
        "* Custom transformer to reduce categories\n",
        "* Custom transformer to create features\n",
        "\n",
        "----\n",
        "#### `Custom Transformer to fill Null Values`\n",
        "\n",
        "* Fill null value with mode from respective column.\n",
        "---"
      ],
      "metadata": {
        "id": "q3nhxAYps21Q"
      }
    },
    {
      "cell_type": "code",
      "source": [
        "# custom transformer to fill null values\n",
        "\n",
        "class nullValuesTransformer(Transformer):\n",
        "\n",
        "    def __init__(self, dataframe = None):\n",
        "        self.dataframe = dataframe\n",
        "\n",
        "    def _transform(self, dataframe):\n",
        "        dataframe = dataframe.fillna({\n",
        "            \"Fraud\" : 0,\n",
        "            \"Country\": \"IN\",\n",
        "            \"TrafficType\" : \"U\",\n",
        "            \"Device\": \"Generic\",\n",
        "            \"Browser\": \"chrome\",\n",
        "            \"OS\": \"Android\",\n",
        "        })\n",
        "\n",
        "        return dataframe"
      ],
      "metadata": {
        "id": "ltVFnneKs4yU"
      },
      "execution_count": null,
      "outputs": []
    },
    {
      "cell_type": "markdown",
      "source": [
        "---\n",
        "\n",
        "#### `Custom Transformer to reduce categories`\n",
        "\n",
        "* Reduce categories for - Country, Device, Browser, OS\n",
        "---"
      ],
      "metadata": {
        "id": "rqU3gWSAs7EW"
      }
    },
    {
      "cell_type": "code",
      "source": [
        "# Creating custom Transformer to reduce the categories of multiple features\n",
        "class reduceCategories(Transformer):\n",
        "\n",
        "    def __init__(self, dataframe = None):\n",
        "        self.dataframe = dataframe\n",
        "\n",
        "    def _transform(self, dataframe):\n",
        "\n",
        "        # map the countries\n",
        "        dataframe = dataframe.withColumn(\"country_modified\", map_countries_udf(dataframe[\"Country\"]))\n",
        "\n",
        "         # map device\n",
        "        dataframe = dataframe.withColumn(\"device_modified\", map_device_udf(dataframe[\"Device\"]))\n",
        "\n",
        "        # map browser\n",
        "        dataframe = dataframe.withColumn(\"browser_modified\", map_browser_udf(dataframe[\"Browser\"]))\n",
        "\n",
        "        # map the os\n",
        "        dataframe = dataframe.withColumn(\"os_modified\", map_os_udf(dataframe[\"OS\"]))\n",
        "\n",
        "        return dataframe"
      ],
      "metadata": {
        "id": "4UNg1fpys9Sg"
      },
      "execution_count": null,
      "outputs": []
    },
    {
      "cell_type": "markdown",
      "source": [
        "---\n",
        "\n",
        "#### `Custom Transformer to create features`\n",
        "\n",
        "* Total clicks per Campaign ID\n",
        "* Total clicks per Publisher ID\n",
        "---"
      ],
      "metadata": {
        "id": "gtbN_FOus_em"
      }
    },
    {
      "cell_type": "code",
      "source": [
        "# Creating two new features: total clicks per campaign Id, total clicks per publisher Id\n",
        "class frequencyEncoding(Transformer):\n",
        "\n",
        "    def __init__(self, dataframe = None):\n",
        "        self.dataframe = dataframe\n",
        "\n",
        "    def _transform(self, dataframe):\n",
        "\n",
        "        # join total clicks per advertiser Campaign Id\n",
        "        dataframe = dataframe.join(total_c_id, on=\"advertiserCampaignId\")\n",
        "\n",
        "        # join total clicks per publisher id dataframe\n",
        "        dataframe = dataframe.join(total_p_id, on=\"publisherId\")\n",
        "\n",
        "        # replace null values\n",
        "        dataframe = dataframe.fillna({\n",
        "            'total_p_id': 0.0,\n",
        "            'total_c_id' : 0.0,\n",
        "        })\n",
        "\n",
        "        return dataframe"
      ],
      "metadata": {
        "id": "8sgVYDlHtBCn"
      },
      "execution_count": null,
      "outputs": []
    },
    {
      "cell_type": "markdown",
      "source": [
        "Defining the Stages"
      ],
      "metadata": {
        "id": "dDCcqXXKtEJE"
      }
    },
    {
      "cell_type": "code",
      "source": [
        "# Stage 1 - replace null values\n",
        "stage_1 = nullValuesTransformer()\n",
        "\n",
        "# stage 2 - reduce categories\n",
        "stage_2 = reduceCategories()\n",
        "\n",
        "# Stage 3 - label encode Traffic_Type column\n",
        "stage_3 = StringIndexer(inputCol= \"TrafficType\", outputCol= \"traffic_le\")\n",
        "\n",
        "# Stage 4 - label encode Country column\n",
        "stage_4 = StringIndexer(inputCol= \"country_modified\", outputCol= \"country_le\")\n",
        "\n",
        "# Stage 5 - label encode Browser column\n",
        "stage_5 = StringIndexer(inputCol= \"browser_modified\", outputCol= \"browser_le\")\n",
        "\n",
        "# Stage 6 - label encode OS column\n",
        "stage_6 = StringIndexer(inputCol= \"os_modified\", outputCol= \"os_le\")\n",
        "\n",
        " # Stage 7 - One Hot Encode columns\n",
        "stage_7 = OneHotEncoder(inputCols= [\"country_le\",  \"browser_le\", \"os_le\", \"traffic_le\"],\n",
        "                        outputCols= [\"country_ohe\",  \"browser_ohe\", \"os_ohe\", \"traffic_ohe\"])\n",
        "\n",
        "# stage 8 - Create new features for total clicks per campaign id and per pulisher id\n",
        "stage_8 = frequencyEncoding()\n",
        "\n",
        "# Stage 9 - Create vector from the columns\n",
        "stage_9 = VectorAssembler(inputCols= [\"Fraud\",\n",
        "                                      \"traffic_ohe\",\n",
        "                                      \"country_ohe\",\n",
        "                                      \"device_modified\",\n",
        "                                      \"browser_ohe\",\n",
        "                                      \"os_ohe\",\n",
        "                                      'total_p_id',\n",
        "                                      'total_c_id',],\n",
        "\n",
        "                         outputCol=  \"feature_vector\")\n",
        "\n",
        "# Stage 10 - Train ML model\n",
        "stage_10 = classification.LogisticRegression(featuresCol= \"feature_vector\", labelCol= \"ConversionStatus\")"
      ],
      "metadata": {
        "id": "-pPWTH7atG-U"
      },
      "execution_count": null,
      "outputs": []
    },
    {
      "cell_type": "markdown",
      "source": [
        "Defining the Pipeline"
      ],
      "metadata": {
        "id": "QtCWbV4ZtJWK"
      }
    },
    {
      "cell_type": "code",
      "source": [
        "# Define pipeline\n",
        "pipeline = Pipeline(stages= [stage_1,\n",
        "                             stage_2,\n",
        "                             stage_3,\n",
        "                             stage_4,\n",
        "                             stage_5,\n",
        "                             stage_6,\n",
        "                             stage_7,\n",
        "                             stage_8,\n",
        "                             stage_9,\n",
        "                             stage_10])"
      ],
      "metadata": {
        "id": "0G115_TBtL3A"
      },
      "execution_count": null,
      "outputs": []
    },
    {
      "cell_type": "markdown",
      "source": [
        "FIT AND TRANSFORM THE PIPELINE"
      ],
      "metadata": {
        "id": "awJM6S0btP8e"
      }
    },
    {
      "cell_type": "code",
      "source": [
        "# fit the pipeline with the training data\n",
        "pipeline_model = pipeline.fit(train_data_pipeline)\n",
        "\n",
        "# transform data\n",
        "final_data = pipeline_model.transform(train_data_pipeline)"
      ],
      "metadata": {
        "id": "MOBDNjI0tSDE"
      },
      "execution_count": null,
      "outputs": []
    },
    {
      "cell_type": "code",
      "source": [
        "final_data.select(\"ID\", \"ConversionStatus\", \"rawPrediction\", \"probability\", \"prediction\").show(10)"
      ],
      "metadata": {
        "colab": {
          "base_uri": "https://localhost:8080/"
        },
        "id": "2cDeOd6BtTfN",
        "outputId": "d1b78ed6-69e5-4ba3-e665-45e3262b3433"
      },
      "execution_count": null,
      "outputs": [
        {
          "output_type": "stream",
          "name": "stdout",
          "text": [
            "+-------+----------------+--------------------+--------------------+----------+\n",
            "|     ID|ConversionStatus|       rawPrediction|         probability|prediction|\n",
            "+-------+----------------+--------------------+--------------------+----------+\n",
            "|1572121|               0|[8.16701069083696...|[0.99971621524607...|       0.0|\n",
            "|1524056|               0|[8.16701069083696...|[0.99971621524607...|       0.0|\n",
            "| 831606|               0|[8.15581239301192...|[0.99971302039682...|       0.0|\n",
            "|1662819|               0|[8.18922316405971...|[0.99972244758368...|       0.0|\n",
            "| 514096|               0|[8.50464222585112...|[0.99979751499658...|       0.0|\n",
            "|1561472|               0|[8.16701069083696...|[0.99971621524607...|       0.0|\n",
            "|1566495|               0|[8.52139147557154...|[0.99980087755438...|       0.0|\n",
            "| 488615|               0|[8.16701069083696...|[0.99971621524607...|       0.0|\n",
            "| 305680|               0|[8.52139147557154...|[0.99980087755438...|       0.0|\n",
            "| 652744|               0|[8.52139147557154...|[0.99980087755438...|       0.0|\n",
            "+-------+----------------+--------------------+--------------------+----------+\n",
            "only showing top 10 rows\n",
            "\n"
          ]
        }
      ]
    },
    {
      "cell_type": "markdown",
      "source": [
        "TRANSFORM THE VALIDATION DATA"
      ],
      "metadata": {
        "id": "PMTrlCdvtUz_"
      }
    },
    {
      "cell_type": "code",
      "source": [
        "final_valid_data = pipeline_model.transform(valid_data_pipeline)"
      ],
      "metadata": {
        "id": "j09wR_99tWgf"
      },
      "execution_count": null,
      "outputs": []
    },
    {
      "cell_type": "code",
      "source": [
        "final_valid_data.columns"
      ],
      "metadata": {
        "colab": {
          "base_uri": "https://localhost:8080/"
        },
        "id": "UzMmOlndtXlw",
        "outputId": "7963d51e-bbce-4883-88b5-c837af0541e8"
      },
      "execution_count": null,
      "outputs": [
        {
          "output_type": "execute_result",
          "data": {
            "text/plain": [
              "['publisherId',\n",
              " 'advertiserCampaignId',\n",
              " 'ID',\n",
              " 'Country',\n",
              " 'Carrier',\n",
              " 'TrafficType',\n",
              " 'ClickDate',\n",
              " 'Device',\n",
              " 'Browser',\n",
              " 'OS',\n",
              " 'ConversionStatus',\n",
              " 'Fraud',\n",
              " 'country_modified',\n",
              " 'device_modified',\n",
              " 'browser_modified',\n",
              " 'os_modified',\n",
              " 'traffic_le',\n",
              " 'country_le',\n",
              " 'browser_le',\n",
              " 'os_le',\n",
              " 'country_ohe',\n",
              " 'browser_ohe',\n",
              " 'os_ohe',\n",
              " 'traffic_ohe',\n",
              " 'total_c_id',\n",
              " 'total_p_id',\n",
              " 'feature_vector',\n",
              " 'rawPrediction',\n",
              " 'probability',\n",
              " 'prediction']"
            ]
          },
          "metadata": {},
          "execution_count": 117
        }
      ]
    },
    {
      "cell_type": "code",
      "source": [
        "final_valid_data.select(\"ID\", \"ConversionStatus\", \"rawPrediction\", \"probability\", \"prediction\").show(10)"
      ],
      "metadata": {
        "colab": {
          "base_uri": "https://localhost:8080/"
        },
        "id": "sgxxJ5GltY9J",
        "outputId": "90a2d17f-3c56-4e7f-beac-7c29fc3bfdbe"
      },
      "execution_count": null,
      "outputs": [
        {
          "output_type": "stream",
          "name": "stdout",
          "text": [
            "+-------+----------------+--------------------+--------------------+----------+\n",
            "|     ID|ConversionStatus|       rawPrediction|         probability|prediction|\n",
            "+-------+----------------+--------------------+--------------------+----------+\n",
            "|1228257|           false|[8.52139147557154...|[0.99980087755438...|       0.0|\n",
            "| 497228|           false|[8.51618318983101...|[0.99979983797049...|       0.0|\n",
            "| 790056|           false|[8.50464222585112...|[0.99979751499658...|       0.0|\n",
            "|1491905|           false|[8.52139147557154...|[0.99980087755438...|       0.0|\n",
            "| 241600|           false|[8.19443144980024...|[0.99972388899992...|       0.0|\n",
            "| 580950|           false|[8.16701069083696...|[0.99971621524607...|       0.0|\n",
            "|1177913|           false|[8.16701069083696...|[0.99971621524607...|       0.0|\n",
            "| 709396|           false|[8.51618318983101...|[0.99979983797049...|       0.0|\n",
            "|1780186|           false|[8.16102067875245...|[0.99971451075740...|       0.0|\n",
            "| 432496|           false|[8.50464222585112...|[0.99979751499658...|       0.0|\n",
            "+-------+----------------+--------------------+--------------------+----------+\n",
            "only showing top 10 rows\n",
            "\n"
          ]
        }
      ]
    },
    {
      "cell_type": "markdown",
      "source": [
        "---\n",
        "\n",
        "#### `TRANSFORM THE TEST DATA`\n",
        "\n",
        "---"
      ],
      "metadata": {
        "id": "n2LPH4Qfta23"
      }
    },
    {
      "cell_type": "code",
      "source": [
        "final_test_data = pipeline_model.transform(test_data_pipeline)"
      ],
      "metadata": {
        "id": "FiIKmvcDuLig"
      },
      "execution_count": null,
      "outputs": []
    },
    {
      "cell_type": "code",
      "source": [
        "final_test_data.select(\"ID\", \"ConversionStatus\", \"rawPrediction\", \"probability\", \"prediction\").show(10)"
      ],
      "metadata": {
        "colab": {
          "base_uri": "https://localhost:8080/"
        },
        "id": "JH7VBwc6uNG_",
        "outputId": "de2dc7ad-c99f-4efd-8a00-b9d126cc68c3"
      },
      "execution_count": null,
      "outputs": [
        {
          "output_type": "stream",
          "name": "stdout",
          "text": [
            "+-------+----------------+--------------------+--------------------+----------+\n",
            "|     ID|ConversionStatus|       rawPrediction|         probability|prediction|\n",
            "+-------+----------------+--------------------+--------------------+----------+\n",
            "| 877556|           false|[8.52139147557154...|[0.99980087755438...|       0.0|\n",
            "| 939398|           false|[8.49943394011059...|[0.99979645786093...|       0.0|\n",
            "|1591588|           false|[8.16701069083696...|[0.99971621524607...|       0.0|\n",
            "| 380320|           false|[8.52139147557154...|[0.99980087755438...|       0.0|\n",
            "| 608460|           false|[8.50464222585112...|[0.99979751499658...|       0.0|\n",
            "| 846153|           false|[8.52139147557154...|[0.99980087755438...|       0.0|\n",
            "|1506493|           false|[8.51618318983101...|[0.99979983797049...|       0.0|\n",
            "|1148036|           false|[8.52139147557154...|[0.99980087755438...|       0.0|\n",
            "|1110910|           false|[8.52139147557154...|[0.99980087755438...|       0.0|\n",
            "|1771692|           false|[8.49943394011059...|[0.99979645786093...|       0.0|\n",
            "+-------+----------------+--------------------+--------------------+----------+\n",
            "only showing top 10 rows\n",
            "\n"
          ]
        }
      ]
    },
    {
      "cell_type": "markdown",
      "source": [
        "## In this project, we built Machine Learning models using Spark ML to classify click predictions for an advertisement company. We improved model performance using Cross-Validation and Grid-Search and developed a Spark ML Pipeline for the Logistic Regression model."
      ],
      "metadata": {
        "id": "qtys2gxQAvGE"
      }
    }
  ]
}